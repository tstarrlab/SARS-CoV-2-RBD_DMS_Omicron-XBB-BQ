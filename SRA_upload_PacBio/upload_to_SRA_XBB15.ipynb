{
 "cells": [
  {
   "cell_type": "markdown",
   "metadata": {},
   "source": [
    "# Upload sequencing data to SRA\n",
    "This Python Jupyter notebook uploads the sequencing data to the NIH [Sequence Read Archive](https://www.ncbi.nlm.nih.gov/sra), or SRA."
   ]
  },
  {
   "cell_type": "markdown",
   "metadata": {},
   "source": [
    "## Create BioProject and BioSamples\n",
    "The first step was done manually to create the BioProject and BioSamples. \n",
    "Note that for new future uploads related to the RBD DMS, you may be able to use the existing BioProject, but since this is the first entries in these project I needed to create a new BioProject.\n",
    "\n",
    "To create these, I went to the [Sequence Read Archive](https://www.ncbi.nlm.nih.gov/sra) and signed in using the box at the upper right of the webpage, and then went to the [SRA Submission Portal](https://submit.ncbi.nlm.nih.gov/subs/sra/).\n",
    "I then manually completed the first five steps, which define the project and samples.\n",
    "\n",
    "We use existing BioProject PRJNA770094 and registered a new BioSample SAMN37185589"
   ]
  },
  {
   "cell_type": "markdown",
   "metadata": {},
   "source": [
    "## Create submission sheet\n",
    "The sixth step is to create the submission sheet in `*.tsv` format, which is done by the following code.\n",
    "\n",
    "First, import Python modules:"
   ]
  },
  {
   "cell_type": "code",
   "execution_count": 2,
   "metadata": {},
   "outputs": [],
   "source": [
    "import ftplib\n",
    "import os\n",
    "import tarfile\n",
    "import datetime\n",
    "\n",
    "import natsort\n",
    "\n",
    "import pandas as pd\n",
    "\n",
    "import yaml"
   ]
  },
  {
   "cell_type": "markdown",
   "metadata": {},
   "source": [
    "Read the configuration for the analysis:"
   ]
  },
  {
   "cell_type": "code",
   "execution_count": 3,
   "metadata": {},
   "outputs": [],
   "source": [
    "with open('../config.yaml') as f:\n",
    "    config = yaml.safe_load(f)"
   ]
  },
  {
   "cell_type": "markdown",
   "metadata": {},
   "source": [
    "Read the PacBio runs:"
   ]
  },
  {
   "cell_type": "code",
   "execution_count": 4,
   "metadata": {},
   "outputs": [
    {
     "name": "stdout",
     "output_type": "stream",
     "text": [
      "Reading PacBio runs from ./pacbio_runs_to_upload_XBB15.csv\n"
     ]
    },
    {
     "data": {
      "text/html": [
       "<div>\n",
       "<style scoped>\n",
       "    .dataframe tbody tr th:only-of-type {\n",
       "        vertical-align: middle;\n",
       "    }\n",
       "\n",
       "    .dataframe tbody tr th {\n",
       "        vertical-align: top;\n",
       "    }\n",
       "\n",
       "    .dataframe thead th {\n",
       "        text-align: right;\n",
       "    }\n",
       "</style>\n",
       "<table border=\"1\" class=\"dataframe\">\n",
       "  <thead>\n",
       "    <tr style=\"text-align: right;\">\n",
       "      <th></th>\n",
       "      <th>library</th>\n",
       "      <th>bg</th>\n",
       "      <th>run</th>\n",
       "      <th>ccs</th>\n",
       "      <th>ccs_file</th>\n",
       "    </tr>\n",
       "  </thead>\n",
       "  <tbody>\n",
       "    <tr>\n",
       "      <th>0</th>\n",
       "      <td>pool1</td>\n",
       "      <td>XBB15</td>\n",
       "      <td>230520</td>\n",
       "      <td>m64272e_230518_163630.hifi_reads.bc2075--bc207...</td>\n",
       "      <td>/uufs/chpc.utah.edu/common/home/starr-group1/s...</td>\n",
       "    </tr>\n",
       "    <tr>\n",
       "      <th>1</th>\n",
       "      <td>pool2</td>\n",
       "      <td>XBB15</td>\n",
       "      <td>230520</td>\n",
       "      <td>m64272e_230518_163630.hifi_reads.bc2076--bc207...</td>\n",
       "      <td>/uufs/chpc.utah.edu/common/home/starr-group1/s...</td>\n",
       "    </tr>\n",
       "  </tbody>\n",
       "</table>\n",
       "</div>"
      ],
      "text/plain": [
       "  library     bg     run                                                ccs  \\\n",
       "0   pool1  XBB15  230520  m64272e_230518_163630.hifi_reads.bc2075--bc207...   \n",
       "1   pool2  XBB15  230520  m64272e_230518_163630.hifi_reads.bc2076--bc207...   \n",
       "\n",
       "                                            ccs_file  \n",
       "0  /uufs/chpc.utah.edu/common/home/starr-group1/s...  \n",
       "1  /uufs/chpc.utah.edu/common/home/starr-group1/s...  "
      ]
     },
     "execution_count": 4,
     "metadata": {},
     "output_type": "execute_result"
    }
   ],
   "source": [
    "pacbio_runs_file = os.path.join('./', 'pacbio_runs_to_upload_XBB15.csv')\n",
    "\n",
    "print(f\"Reading PacBio runs from {pacbio_runs_file}\")\n",
    "\n",
    "pacbio_runs = (\n",
    "    pd.read_csv(pacbio_runs_file)\n",
    "#     .assign(ccs_file=lambda x: f\"../{config['ccs_dir']}/\" + x['library'] + '_' + x['run'] + '_ccs.fastq.gz')\n",
    "#    .assign(ccs_file=lambda x: x['ccs'])\n",
    "    )\n",
    "\n",
    "pacbio_runs.head()"
   ]
  },
  {
   "cell_type": "markdown",
   "metadata": {},
   "source": [
    "Next make submission entries for the PacBio CCSs:"
   ]
  },
  {
   "cell_type": "code",
   "execution_count": 5,
   "metadata": {},
   "outputs": [
    {
     "data": {
      "text/html": [
       "<div>\n",
       "<style scoped>\n",
       "    .dataframe tbody tr th:only-of-type {\n",
       "        vertical-align: middle;\n",
       "    }\n",
       "\n",
       "    .dataframe tbody tr th {\n",
       "        vertical-align: top;\n",
       "    }\n",
       "\n",
       "    .dataframe thead th {\n",
       "        text-align: right;\n",
       "    }\n",
       "</style>\n",
       "<table border=\"1\" class=\"dataframe\">\n",
       "  <thead>\n",
       "    <tr style=\"text-align: right;\">\n",
       "      <th></th>\n",
       "      <th>biosample_accession</th>\n",
       "      <th>library_ID</th>\n",
       "      <th>title</th>\n",
       "      <th>library_strategy</th>\n",
       "      <th>library_source</th>\n",
       "      <th>library_selection</th>\n",
       "      <th>library_layout</th>\n",
       "      <th>platform</th>\n",
       "      <th>instrument_model</th>\n",
       "      <th>design_description</th>\n",
       "      <th>filetype</th>\n",
       "      <th>filename_fullpath</th>\n",
       "    </tr>\n",
       "  </thead>\n",
       "  <tbody>\n",
       "    <tr>\n",
       "      <th>0</th>\n",
       "      <td>SAMN37185589</td>\n",
       "      <td>XBB15_pool1_PacBio_CCSs</td>\n",
       "      <td>PacBio CCSs linking variants to barcodes for S...</td>\n",
       "      <td>Synthetic-Long-Read</td>\n",
       "      <td>SYNTHETIC</td>\n",
       "      <td>Restriction Digest</td>\n",
       "      <td>single</td>\n",
       "      <td>PACBIO_SMRT</td>\n",
       "      <td>PacBio Sequel II</td>\n",
       "      <td>Restriction digest of plasmids carrying barcod...</td>\n",
       "      <td>fastq</td>\n",
       "      <td>/uufs/chpc.utah.edu/common/home/starr-group1/s...</td>\n",
       "    </tr>\n",
       "    <tr>\n",
       "      <th>1</th>\n",
       "      <td>SAMN37185589</td>\n",
       "      <td>XBB15_pool2_PacBio_CCSs</td>\n",
       "      <td>PacBio CCSs linking variants to barcodes for S...</td>\n",
       "      <td>Synthetic-Long-Read</td>\n",
       "      <td>SYNTHETIC</td>\n",
       "      <td>Restriction Digest</td>\n",
       "      <td>single</td>\n",
       "      <td>PACBIO_SMRT</td>\n",
       "      <td>PacBio Sequel II</td>\n",
       "      <td>Restriction digest of plasmids carrying barcod...</td>\n",
       "      <td>fastq</td>\n",
       "      <td>/uufs/chpc.utah.edu/common/home/starr-group1/s...</td>\n",
       "    </tr>\n",
       "  </tbody>\n",
       "</table>\n",
       "</div>"
      ],
      "text/plain": [
       "  biosample_accession               library_ID  \\\n",
       "0        SAMN37185589  XBB15_pool1_PacBio_CCSs   \n",
       "1        SAMN37185589  XBB15_pool2_PacBio_CCSs   \n",
       "\n",
       "                                               title     library_strategy  \\\n",
       "0  PacBio CCSs linking variants to barcodes for S...  Synthetic-Long-Read   \n",
       "1  PacBio CCSs linking variants to barcodes for S...  Synthetic-Long-Read   \n",
       "\n",
       "  library_source   library_selection library_layout     platform  \\\n",
       "0      SYNTHETIC  Restriction Digest         single  PACBIO_SMRT   \n",
       "1      SYNTHETIC  Restriction Digest         single  PACBIO_SMRT   \n",
       "\n",
       "   instrument_model                                 design_description  \\\n",
       "0  PacBio Sequel II  Restriction digest of plasmids carrying barcod...   \n",
       "1  PacBio Sequel II  Restriction digest of plasmids carrying barcod...   \n",
       "\n",
       "  filetype                                  filename_fullpath  \n",
       "0    fastq  /uufs/chpc.utah.edu/common/home/starr-group1/s...  \n",
       "1    fastq  /uufs/chpc.utah.edu/common/home/starr-group1/s...  "
      ]
     },
     "execution_count": 5,
     "metadata": {},
     "output_type": "execute_result"
    }
   ],
   "source": [
    "pacbio_submissions = (\n",
    "    pacbio_runs\n",
    "    .assign(\n",
    "        biosample_accession='SAMN37185589',\n",
    "        library_ID=lambda x: x['bg'] + '_' + x['library'] + '_PacBio_CCSs',  # unique library ID\n",
    "        title='PacBio CCSs linking variants to barcodes for SARS-CoV-2 variant RBD deep mutational scanning',\n",
    "        library_strategy='Synthetic-Long-Read',\n",
    "        library_source='SYNTHETIC',\n",
    "        library_selection='Restriction Digest',\n",
    "        library_layout='single',\n",
    "        platform='PACBIO_SMRT',\n",
    "        instrument_model='PacBio Sequel II',\n",
    "        design_description='Restriction digest of plasmids carrying barcoded RBD variants',\n",
    "        filetype='fastq',\n",
    "        #filename_nickname=lambda x: x['ccs'],      \n",
    "        filename_fullpath=lambda x: x['ccs_file'],      \n",
    "        )\n",
    "    .drop(columns=pacbio_runs.columns)\n",
    "    )\n",
    "\n",
    "pacbio_submissions.head()"
   ]
  },
  {
   "cell_type": "markdown",
   "metadata": {},
   "source": [
    "Now concatenate the PacBio submissions into tidy format (one line per file), make sure all the files exist."
   ]
  },
  {
   "cell_type": "code",
   "execution_count": 6,
   "metadata": {},
   "outputs": [
    {
     "data": {
      "text/html": [
       "<div>\n",
       "<style scoped>\n",
       "    .dataframe tbody tr th:only-of-type {\n",
       "        vertical-align: middle;\n",
       "    }\n",
       "\n",
       "    .dataframe tbody tr th {\n",
       "        vertical-align: top;\n",
       "    }\n",
       "\n",
       "    .dataframe thead th {\n",
       "        text-align: right;\n",
       "    }\n",
       "</style>\n",
       "<table border=\"1\" class=\"dataframe\">\n",
       "  <thead>\n",
       "    <tr style=\"text-align: right;\">\n",
       "      <th></th>\n",
       "      <th>biosample_accession</th>\n",
       "      <th>library_ID</th>\n",
       "      <th>title</th>\n",
       "      <th>library_strategy</th>\n",
       "      <th>library_source</th>\n",
       "      <th>library_selection</th>\n",
       "      <th>library_layout</th>\n",
       "      <th>platform</th>\n",
       "      <th>instrument_model</th>\n",
       "      <th>design_description</th>\n",
       "      <th>filetype</th>\n",
       "      <th>filename_fullpath</th>\n",
       "      <th>file_exists</th>\n",
       "      <th>filename</th>\n",
       "    </tr>\n",
       "  </thead>\n",
       "  <tbody>\n",
       "    <tr>\n",
       "      <th>0</th>\n",
       "      <td>SAMN37185589</td>\n",
       "      <td>XBB15_pool1_PacBio_CCSs</td>\n",
       "      <td>PacBio CCSs linking variants to barcodes for S...</td>\n",
       "      <td>Synthetic-Long-Read</td>\n",
       "      <td>SYNTHETIC</td>\n",
       "      <td>Restriction Digest</td>\n",
       "      <td>single</td>\n",
       "      <td>PACBIO_SMRT</td>\n",
       "      <td>PacBio Sequel II</td>\n",
       "      <td>Restriction digest of plasmids carrying barcod...</td>\n",
       "      <td>fastq</td>\n",
       "      <td>/uufs/chpc.utah.edu/common/home/starr-group1/s...</td>\n",
       "      <td>True</td>\n",
       "      <td>m64272e_230518_163630.hifi_reads.bc2075--bc207...</td>\n",
       "    </tr>\n",
       "    <tr>\n",
       "      <th>1</th>\n",
       "      <td>SAMN37185589</td>\n",
       "      <td>XBB15_pool2_PacBio_CCSs</td>\n",
       "      <td>PacBio CCSs linking variants to barcodes for S...</td>\n",
       "      <td>Synthetic-Long-Read</td>\n",
       "      <td>SYNTHETIC</td>\n",
       "      <td>Restriction Digest</td>\n",
       "      <td>single</td>\n",
       "      <td>PACBIO_SMRT</td>\n",
       "      <td>PacBio Sequel II</td>\n",
       "      <td>Restriction digest of plasmids carrying barcod...</td>\n",
       "      <td>fastq</td>\n",
       "      <td>/uufs/chpc.utah.edu/common/home/starr-group1/s...</td>\n",
       "      <td>True</td>\n",
       "      <td>m64272e_230518_163630.hifi_reads.bc2076--bc207...</td>\n",
       "    </tr>\n",
       "  </tbody>\n",
       "</table>\n",
       "</div>"
      ],
      "text/plain": [
       "  biosample_accession               library_ID  \\\n",
       "0        SAMN37185589  XBB15_pool1_PacBio_CCSs   \n",
       "1        SAMN37185589  XBB15_pool2_PacBio_CCSs   \n",
       "\n",
       "                                               title     library_strategy  \\\n",
       "0  PacBio CCSs linking variants to barcodes for S...  Synthetic-Long-Read   \n",
       "1  PacBio CCSs linking variants to barcodes for S...  Synthetic-Long-Read   \n",
       "\n",
       "  library_source   library_selection library_layout     platform  \\\n",
       "0      SYNTHETIC  Restriction Digest         single  PACBIO_SMRT   \n",
       "1      SYNTHETIC  Restriction Digest         single  PACBIO_SMRT   \n",
       "\n",
       "   instrument_model                                 design_description  \\\n",
       "0  PacBio Sequel II  Restriction digest of plasmids carrying barcod...   \n",
       "1  PacBio Sequel II  Restriction digest of plasmids carrying barcod...   \n",
       "\n",
       "  filetype                                  filename_fullpath  file_exists  \\\n",
       "0    fastq  /uufs/chpc.utah.edu/common/home/starr-group1/s...         True   \n",
       "1    fastq  /uufs/chpc.utah.edu/common/home/starr-group1/s...         True   \n",
       "\n",
       "                                            filename  \n",
       "0  m64272e_230518_163630.hifi_reads.bc2075--bc207...  \n",
       "1  m64272e_230518_163630.hifi_reads.bc2076--bc207...  "
      ]
     },
     "execution_count": 6,
     "metadata": {},
     "output_type": "execute_result"
    }
   ],
   "source": [
    "submissions_tidy = (\n",
    "    pd.concat([pacbio_submissions], ignore_index=True)\n",
    "    .assign(file_exists=lambda x: x['filename_fullpath'].map(os.path.isfile),\n",
    "            filename=lambda x: x['filename_fullpath'].map(os.path.basename),\n",
    "            )\n",
    "    )\n",
    "\n",
    "assert submissions_tidy['file_exists'].all(), submissions_tidy.query('file_exists == False')\n",
    "\n",
    "submissions_tidy.head()"
   ]
  },
  {
   "cell_type": "markdown",
   "metadata": {},
   "source": [
    "For the actual submission, we need a \"wide\" data frame that for each unique `sample_name` / `library_ID` gives all of the files each in different columns.\n",
    "These should be files without the full path.\n",
    "\n",
    "First, look at how many files there are for each sample / library:"
   ]
  },
  {
   "cell_type": "code",
   "execution_count": 7,
   "metadata": {},
   "outputs": [
    {
     "data": {
      "text/html": [
       "<div>\n",
       "<style scoped>\n",
       "    .dataframe tbody tr th:only-of-type {\n",
       "        vertical-align: middle;\n",
       "    }\n",
       "\n",
       "    .dataframe tbody tr th {\n",
       "        vertical-align: top;\n",
       "    }\n",
       "\n",
       "    .dataframe thead th {\n",
       "        text-align: right;\n",
       "    }\n",
       "</style>\n",
       "<table border=\"1\" class=\"dataframe\">\n",
       "  <thead>\n",
       "    <tr style=\"text-align: right;\">\n",
       "      <th></th>\n",
       "      <th>biosample_accession</th>\n",
       "      <th>library_ID</th>\n",
       "      <th>n_files</th>\n",
       "    </tr>\n",
       "  </thead>\n",
       "  <tbody>\n",
       "    <tr>\n",
       "      <th>0</th>\n",
       "      <td>SAMN37185589</td>\n",
       "      <td>XBB15_pool1_PacBio_CCSs</td>\n",
       "      <td>1</td>\n",
       "    </tr>\n",
       "    <tr>\n",
       "      <th>1</th>\n",
       "      <td>SAMN37185589</td>\n",
       "      <td>XBB15_pool2_PacBio_CCSs</td>\n",
       "      <td>1</td>\n",
       "    </tr>\n",
       "  </tbody>\n",
       "</table>\n",
       "</div>"
      ],
      "text/plain": [
       "  biosample_accession               library_ID  n_files\n",
       "0        SAMN37185589  XBB15_pool1_PacBio_CCSs        1\n",
       "1        SAMN37185589  XBB15_pool2_PacBio_CCSs        1"
      ]
     },
     "execution_count": 7,
     "metadata": {},
     "output_type": "execute_result"
    }
   ],
   "source": [
    "(submissions_tidy\n",
    " .groupby(['biosample_accession', 'library_ID'])\n",
    " .aggregate(n_files=pd.NamedAgg('filename_fullpath', 'count'))\n",
    " .sort_values('n_files', ascending=False)\n",
    " .reset_index()\n",
    " )"
   ]
  },
  {
   "cell_type": "markdown",
   "metadata": {},
   "source": [
    "Now make the wide submission data frame."
   ]
  },
  {
   "cell_type": "code",
   "execution_count": 8,
   "metadata": {},
   "outputs": [
    {
     "data": {
      "text/html": [
       "<div>\n",
       "<style scoped>\n",
       "    .dataframe tbody tr th:only-of-type {\n",
       "        vertical-align: middle;\n",
       "    }\n",
       "\n",
       "    .dataframe tbody tr th {\n",
       "        vertical-align: top;\n",
       "    }\n",
       "\n",
       "    .dataframe thead th {\n",
       "        text-align: right;\n",
       "    }\n",
       "</style>\n",
       "<table border=\"1\" class=\"dataframe\">\n",
       "  <thead>\n",
       "    <tr style=\"text-align: right;\">\n",
       "      <th></th>\n",
       "      <th>biosample_accession</th>\n",
       "      <th>library_ID</th>\n",
       "      <th>title</th>\n",
       "      <th>library_strategy</th>\n",
       "      <th>library_source</th>\n",
       "      <th>library_selection</th>\n",
       "      <th>library_layout</th>\n",
       "      <th>platform</th>\n",
       "      <th>instrument_model</th>\n",
       "      <th>design_description</th>\n",
       "      <th>filetype</th>\n",
       "      <th>filename</th>\n",
       "    </tr>\n",
       "  </thead>\n",
       "  <tbody>\n",
       "    <tr>\n",
       "      <th>0</th>\n",
       "      <td>SAMN37185589</td>\n",
       "      <td>XBB15_pool1_PacBio_CCSs</td>\n",
       "      <td>PacBio CCSs linking variants to barcodes for S...</td>\n",
       "      <td>Synthetic-Long-Read</td>\n",
       "      <td>SYNTHETIC</td>\n",
       "      <td>Restriction Digest</td>\n",
       "      <td>single</td>\n",
       "      <td>PACBIO_SMRT</td>\n",
       "      <td>PacBio Sequel II</td>\n",
       "      <td>Restriction digest of plasmids carrying barcod...</td>\n",
       "      <td>fastq</td>\n",
       "      <td>m64272e_230518_163630.hifi_reads.bc2075--bc207...</td>\n",
       "    </tr>\n",
       "    <tr>\n",
       "      <th>1</th>\n",
       "      <td>SAMN37185589</td>\n",
       "      <td>XBB15_pool2_PacBio_CCSs</td>\n",
       "      <td>PacBio CCSs linking variants to barcodes for S...</td>\n",
       "      <td>Synthetic-Long-Read</td>\n",
       "      <td>SYNTHETIC</td>\n",
       "      <td>Restriction Digest</td>\n",
       "      <td>single</td>\n",
       "      <td>PACBIO_SMRT</td>\n",
       "      <td>PacBio Sequel II</td>\n",
       "      <td>Restriction digest of plasmids carrying barcod...</td>\n",
       "      <td>fastq</td>\n",
       "      <td>m64272e_230518_163630.hifi_reads.bc2076--bc207...</td>\n",
       "    </tr>\n",
       "  </tbody>\n",
       "</table>\n",
       "</div>"
      ],
      "text/plain": [
       "  biosample_accession               library_ID  \\\n",
       "0        SAMN37185589  XBB15_pool1_PacBio_CCSs   \n",
       "1        SAMN37185589  XBB15_pool2_PacBio_CCSs   \n",
       "\n",
       "                                               title     library_strategy  \\\n",
       "0  PacBio CCSs linking variants to barcodes for S...  Synthetic-Long-Read   \n",
       "1  PacBio CCSs linking variants to barcodes for S...  Synthetic-Long-Read   \n",
       "\n",
       "  library_source   library_selection library_layout     platform  \\\n",
       "0      SYNTHETIC  Restriction Digest         single  PACBIO_SMRT   \n",
       "1      SYNTHETIC  Restriction Digest         single  PACBIO_SMRT   \n",
       "\n",
       "   instrument_model                                 design_description  \\\n",
       "0  PacBio Sequel II  Restriction digest of plasmids carrying barcod...   \n",
       "1  PacBio Sequel II  Restriction digest of plasmids carrying barcod...   \n",
       "\n",
       "  filetype                                           filename  \n",
       "0    fastq  m64272e_230518_163630.hifi_reads.bc2075--bc207...  \n",
       "1    fastq  m64272e_230518_163630.hifi_reads.bc2076--bc207...  "
      ]
     },
     "execution_count": 8,
     "metadata": {},
     "output_type": "execute_result"
    }
   ],
   "source": [
    "submissions_wide = (\n",
    "    submissions_tidy\n",
    "    .assign(\n",
    "        filename_count=lambda x: x.groupby(['biosample_accession', 'library_ID'])['filename'].cumcount() + 1,\n",
    "        filename_col=lambda x: 'filename' + x['filename_count'].map(lambda c: str(c) if c > 1 else '')\n",
    "        )\n",
    "    .pivot(\n",
    "        index='library_ID',\n",
    "        columns='filename_col',\n",
    "        values='filename',\n",
    "        )\n",
    "    )\n",
    "\n",
    "submissions_wide = (\n",
    "    submissions_tidy\n",
    "    .drop(columns=['filename_fullpath', 'file_exists', 'filename'])\n",
    "    .drop_duplicates()\n",
    "    .merge(submissions_wide[natsort.natsorted(submissions_wide.columns)],\n",
    "           on='library_ID',\n",
    "           validate='one_to_one',\n",
    "           )\n",
    "    )\n",
    "\n",
    "submissions_wide"
   ]
  },
  {
   "cell_type": "markdown",
   "metadata": {},
   "source": [
    "Now write the wide submissions data frame to a `*.tsv` file:"
   ]
  },
  {
   "cell_type": "code",
   "execution_count": 9,
   "metadata": {},
   "outputs": [],
   "source": [
    "submissions_spreadsheet = 'SRA_submission_spreadsheet_XBB15.tsv'\n",
    "\n",
    "submissions_wide.to_csv(submissions_spreadsheet, sep='\\t', index=False)"
   ]
  },
  {
   "cell_type": "markdown",
   "metadata": {},
   "source": [
    "This submission sheet was then manually uploaded in Step 6 of the SRA submission wizard (*SRA metadata*)."
   ]
  },
  {
   "cell_type": "markdown",
   "metadata": {},
   "source": [
    "## Upload the actual files\n",
    "Step 7 of the SRA submission wizard is to upload the files.\n",
    "In order to do this, we first make a `*.tar` file with all of the files.\n",
    "Since this takes a long time, we only create the file if it doesn't already exist, so it is only created the first time this notebook is run.\n",
    "**Note that this will cause a problem if you add more sequencing files to upload after running the notebook, in that case the cell below will need to altered.**"
   ]
  },
  {
   "cell_type": "code",
   "execution_count": 10,
   "metadata": {},
   "outputs": [
    {
     "name": "stdout",
     "output_type": "stream",
     "text": [
      "Adding file 1 of 2 to SRA_submission_XBB15.tar\n",
      "Adding file 2 of 2 to SRA_submission_XBB15.tar\n",
      "Added all files to SRA_submission_XBB15.tar\n"
     ]
    }
   ],
   "source": [
    "tar_filename = 'SRA_submission_XBB15.tar'\n",
    "\n",
    "if os.path.isfile(tar_filename):\n",
    "    print(f\"{tar_filename} already exists, not creating it again\")\n",
    "else:\n",
    "    try:\n",
    "        with tarfile.open(tar_filename, mode='w') as f:\n",
    "            for i, tup in enumerate(submissions_tidy.itertuples()):\n",
    "                print(f\"Adding file {i + 1} of {len(submissions_tidy)} to {tar_filename}\")\n",
    "                f.add(tup.filename_fullpath, arcname=tup.filename_fullpath)\n",
    "            print(f\"Added all files to {tar_filename}\")\n",
    "    except:\n",
    "        if os.path.isfile(tar_filename):\n",
    "            os.remove(tar_filename)\n",
    "        raise"
   ]
  },
  {
   "cell_type": "markdown",
   "metadata": {},
   "source": [
    "See the size of the `*.tar` file to upload and make sure it has the expected files:\n",
    "\n",
    "Note: the filenames in the `*.tar` file lack the initial backslash, but i confirmed manually that all are present"
   ]
  },
  {
   "cell_type": "code",
   "execution_count": 11,
   "metadata": {},
   "outputs": [
    {
     "name": "stdout",
     "output_type": "stream",
     "text": [
      "The size of SRA_submission_XBB15.tar is 0.3 GB\n",
      "{'uufs/chpc.utah.edu/common/home/starr-group1/sequencing/TNS/2023/230520_Omicron-xbb-bq_pacbio/m64272e_230518_163630.hifi_reads.bc2075--bc2075.fastq.gz', 'uufs/chpc.utah.edu/common/home/starr-group1/sequencing/TNS/2023/230520_Omicron-xbb-bq_pacbio/m64272e_230518_163630.hifi_reads.bc2076--bc2076.fastq.gz'}\n",
      "{'/uufs/chpc.utah.edu/common/home/starr-group1/sequencing/TNS/2023/230520_Omicron-xbb-bq_pacbio/m64272e_230518_163630.hifi_reads.bc2076--bc2076.fastq.gz', '/uufs/chpc.utah.edu/common/home/starr-group1/sequencing/TNS/2023/230520_Omicron-xbb-bq_pacbio/m64272e_230518_163630.hifi_reads.bc2075--bc2075.fastq.gz'}\n"
     ]
    }
   ],
   "source": [
    "print(f\"The size of {tar_filename} is {os.path.getsize(tar_filename) / 1e9:.1f} GB\")\n",
    "\n",
    "with tarfile.open(tar_filename) as f:\n",
    "    files_in_tar = set(f.getnames())\n",
    "    print(files_in_tar)\n",
    "    print(set(submissions_tidy['filename_fullpath']))\n",
    "#if files_in_tar == set(submissions_tidy['filename_fullpath']):\n",
    "#    print(f\"{tar_filename} contains all {len(files_in_tar)} expected files.\")\n",
    "#else:\n",
    "#    raise ValueError(f\"{tar_filename} does not have all the expected files.\")"
   ]
  },
  {
   "cell_type": "markdown",
   "metadata": {},
   "source": [
    "The SRA instructions then give several ways to upload; we will do it using the FTP method.\n",
    "First, specify the FTP address, username, password, and subfolder given by the SRA submission wizard instructions.\n",
    "In order to avoid having the password be public here, that is in a separate text file that is **not** included in the GitHub repo (so this needs to be run in Tyler's directory that has this password):"
   ]
  },
  {
   "cell_type": "code",
   "execution_count": 12,
   "metadata": {},
   "outputs": [],
   "source": [
    "# the following are provided by SRA wizard insturctions\n",
    "ftp_address = 'ftp-private.ncbi.nlm.nih.gov'\n",
    "ftp_username = 'subftp'\n",
    "ftp_account_folder = 'uploads/tyler.n.starr_gmail.com_LMpRB4Tu'\n",
    "with open('ftp_password.txt') as f:\n",
    "    ftp_password = f.read().strip()\n",
    "    \n",
    "# meaningful name for subfolder\n",
    "ftp_subfolder = 'XBB15_RBD_barcodes'"
   ]
  },
  {
   "cell_type": "markdown",
   "metadata": {},
   "source": [
    "Now create FTP connection and upload the TAR file.\n",
    "Note that this takes a while.\n",
    "If you are worried that it will timeout given the size of your file, you can run this notebook via `slurm` so there is no timing out:"
   ]
  },
  {
   "cell_type": "code",
   "execution_count": 13,
   "metadata": {},
   "outputs": [
    {
     "name": "stdout",
     "output_type": "stream",
     "text": [
      "Starting upload at 2023-08-29 15:22:56.011784\n",
      "Finished upload at 2023-08-29 15:23:34.950651\n"
     ]
    }
   ],
   "source": [
    "print(f\"Starting upload at {datetime.datetime.now()}\")\n",
    "\n",
    "with ftplib.FTP(ftp_address) as ftp:\n",
    "    ftp.login(user=ftp_username,\n",
    "              passwd=ftp_password,\n",
    "              )\n",
    "    ftp.cwd(ftp_account_folder)\n",
    "    ftp.mkd(ftp_subfolder)\n",
    "    ftp.cwd(ftp_subfolder)\n",
    "    with open(tar_filename, 'rb') as f:\n",
    "        ftp.storbinary(f\"STOR {tar_filename}\", f)\n",
    "        \n",
    "print(f\"Finished upload at {datetime.datetime.now()}\")"
   ]
  },
  {
   "cell_type": "markdown",
   "metadata": {},
   "source": [
    "Finally, used the SRA wizard to select the `*.tar` archive and complete the submission.\n",
    "Note that there is a warning of missing files since everything was uploaded as a `*.tar` rather than individual files.\n",
    "They should all be found when you hit the button to proceed and the `*.tar` is unpacked.\n",
    "\n",
    "There was then a message that the submission was processing, and data would be released immediately upon processing.\n",
    "The submission number is `SUB13802272`."
   ]
  },
  {
   "cell_type": "code",
   "execution_count": null,
   "metadata": {},
   "outputs": [],
   "source": []
  }
 ],
 "metadata": {
  "language_info": {
   "name": "python"
  }
 },
 "nbformat": 4,
 "nbformat_minor": 4
}
