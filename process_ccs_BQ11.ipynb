{
 "cells": [
  {
   "cell_type": "markdown",
   "metadata": {
    "toc": true
   },
   "source": [
    "<h1>Table of Contents<span class=\"tocSkip\"></span></h1>\n",
    "<div class=\"toc\"><ul class=\"toc-item\"><li><span><a href=\"#Process-CCSs\" data-toc-modified-id=\"Process-CCSs-1\">Process CCSs</a></span><ul class=\"toc-item\"><li><span><a href=\"#Setup\" data-toc-modified-id=\"Setup-1.1\">Setup</a></span></li><li><span><a href=\"#PacBio-amplicons\" data-toc-modified-id=\"PacBio-amplicons-1.2\">PacBio amplicons</a></span></li><li><span><a href=\"#CCS-stats-for-PacBio-runs\" data-toc-modified-id=\"CCS-stats-for-PacBio-runs-1.3\">CCS stats for PacBio runs</a></span></li><li><span><a href=\"#Align-CCSs-to-amplicons\" data-toc-modified-id=\"Align-CCSs-to-amplicons-1.4\">Align CCSs to amplicons</a></span></li><li><span><a href=\"#Write-valid-CCSs\" data-toc-modified-id=\"Write-valid-CCSs-1.5\">Write valid CCSs</a></span></li></ul></li></ul></div>"
   ]
  },
  {
   "cell_type": "markdown",
   "metadata": {},
   "source": [
    "This Python Jupyter notebook processes the PacBio circular consensus sequences (CCSs) to extract barcodes and call mutations in the gene. It then builds consensus sequences for barcoded variants from the mutations, to build a barcode-variant lookup table."
   ]
  },
  {
   "cell_type": "markdown",
   "metadata": {},
   "source": [
    "# Process CCSs\n",
    "First, process the PacBio CCSs to extract barcodes and call mutations in the gene."
   ]
  },
  {
   "cell_type": "markdown",
   "metadata": {},
   "source": [
    "Define the background for CCS mapping"
   ]
  },
  {
   "cell_type": "code",
   "execution_count": 1,
   "metadata": {},
   "outputs": [],
   "source": [
    "background = \"BQ11\""
   ]
  },
  {
   "cell_type": "markdown",
   "metadata": {},
   "source": [
    "## Setup\n",
    "\n",
    "Import Python modules\n",
    "\n",
    "Plotting is done with [plotnine](https://plotnine.readthedocs.io/en/stable/), which uses ggplot2-like syntax.\n",
    "\n",
    "The analysis uses the Bloom lab's [alignparse](https://jbloomlab.github.io/alignparse) and [dms_variants](https://jbloomlab.github.io/dms_variants) packages."
   ]
  },
  {
   "cell_type": "code",
   "execution_count": 2,
   "metadata": {},
   "outputs": [],
   "source": [
    "import collections\n",
    "import math\n",
    "import os\n",
    "import re\n",
    "import time\n",
    "import warnings\n",
    "\n",
    "import alignparse\n",
    "import alignparse.ccs\n",
    "from alignparse.constants import CBPALETTE\n",
    "import alignparse.minimap2\n",
    "import alignparse.targets\n",
    "import alignparse.consensus\n",
    "import alignparse.utils\n",
    "\n",
    "import dms_variants\n",
    "import dms_variants.codonvarianttable\n",
    "import dms_variants.plotnine_themes\n",
    "import dms_variants.utils\n",
    "\n",
    "from IPython.display import display, HTML\n",
    "\n",
    "import numpy\n",
    "\n",
    "import pandas as pd\n",
    "\n",
    "from plotnine import *\n",
    "\n",
    "import yaml"
   ]
  },
  {
   "cell_type": "markdown",
   "metadata": {},
   "source": [
    "Set [plotnine](https://plotnine.readthedocs.io/en/stable/) theme to the one defined in [dms_variants](https://jbloomlab.github.io/dms_variants):"
   ]
  },
  {
   "cell_type": "code",
   "execution_count": 3,
   "metadata": {},
   "outputs": [],
   "source": [
    "theme_set(dms_variants.plotnine_themes.theme_graygrid())"
   ]
  },
  {
   "cell_type": "markdown",
   "metadata": {},
   "source": [
    "Versions of key software:"
   ]
  },
  {
   "cell_type": "code",
   "execution_count": 4,
   "metadata": {},
   "outputs": [
    {
     "name": "stdout",
     "output_type": "stream",
     "text": [
      "Using alignparse version 0.6.0\n",
      "Using dms_variants version 1.4.3\n",
      "Using pandas version 1.3.5\n"
     ]
    }
   ],
   "source": [
    "print(f\"Using alignparse version {alignparse.__version__}\")\n",
    "print(f\"Using dms_variants version {dms_variants.__version__}\")\n",
    "print(f\"Using pandas version {pd.__version__}\")"
   ]
  },
  {
   "cell_type": "markdown",
   "metadata": {},
   "source": [
    "Ignore warnings that clutter output:"
   ]
  },
  {
   "cell_type": "code",
   "execution_count": 5,
   "metadata": {},
   "outputs": [],
   "source": [
    "warnings.simplefilter('ignore')"
   ]
  },
  {
   "cell_type": "markdown",
   "metadata": {},
   "source": [
    "Read the configuration file:"
   ]
  },
  {
   "cell_type": "code",
   "execution_count": 6,
   "metadata": {},
   "outputs": [],
   "source": [
    "with open('config.yaml') as f:\n",
    "    config = yaml.safe_load(f)"
   ]
  },
  {
   "cell_type": "markdown",
   "metadata": {},
   "source": [
    "Make output directory for figures:"
   ]
  },
  {
   "cell_type": "code",
   "execution_count": 7,
   "metadata": {},
   "outputs": [],
   "source": [
    "os.makedirs(config['process_ccs_dir'], exist_ok=True)"
   ]
  },
  {
   "cell_type": "markdown",
   "metadata": {},
   "source": [
    "## PacBio reads\n",
    "Get the amplicons sequenced by PacBio as the alignment target along with the specs on how to parse the features:"
   ]
  },
  {
   "cell_type": "code",
   "execution_count": 8,
   "metadata": {},
   "outputs": [
    {
     "data": {
      "text/html": [
       "<table border=\"1\" class=\"dataframe\">\n",
       "  <thead>\n",
       "    <tr style=\"text-align: right;\">\n",
       "      <th>library</th>\n",
       "      <th>bg</th>\n",
       "      <th>run</th>\n",
       "      <th>name</th>\n",
       "      <th>fastq</th>\n",
       "    </tr>\n",
       "  </thead>\n",
       "  <tbody>\n",
       "    <tr>\n",
       "      <td>pool1</td>\n",
       "      <td>BQ11</td>\n",
       "      <td>230520</td>\n",
       "      <td>pool1_BQ11_230520</td>\n",
       "      <td>results/ccs/pool1_BQ11_230520_ccs.fastq.gz</td>\n",
       "    </tr>\n",
       "    <tr>\n",
       "      <td>pool2</td>\n",
       "      <td>BQ11</td>\n",
       "      <td>230520</td>\n",
       "      <td>pool2_BQ11_230520</td>\n",
       "      <td>results/ccs/pool2_BQ11_230520_ccs.fastq.gz</td>\n",
       "    </tr>\n",
       "  </tbody>\n",
       "</table>"
      ],
      "text/plain": [
       "<IPython.core.display.HTML object>"
      ]
     },
     "metadata": {},
     "output_type": "display_data"
    }
   ],
   "source": [
    "pacbio_runs = (\n",
    "    pd.read_csv(config['pacbio_runs'], dtype=str)\n",
    "    .drop(columns=['ccs'])\n",
    "    .assign(name=lambda x: x['library'] + '_' + x['bg'] + '_' + x['run'],\n",
    "            fastq=lambda x: config['ccs_dir'] + '/' + x['name'] + '_ccs.fastq.gz'\n",
    "            )\n",
    "    )\n",
    " \n",
    "pacbio_runs.drop(pacbio_runs[pacbio_runs['bg'] != background].index,inplace=True)\n",
    "\n",
    "display(HTML(pacbio_runs.to_html(index=False)))"
   ]
  },
  {
   "cell_type": "markdown",
   "metadata": {},
   "source": [
    "## PacBio amplicons\n",
    "Get the amplicons sequenced by PacBio as the alignment target along with the specs on how to parse the features:"
   ]
  },
  {
   "cell_type": "code",
   "execution_count": 9,
   "metadata": {},
   "outputs": [
    {
     "name": "stdout",
     "output_type": "stream",
     "text": [
      "Reading amplicons from data/PacBio_amplicon_BQ11.gb\n",
      "Reading feature parse specs from data/feature_parse_specs_BQ11.yaml\n"
     ]
    }
   ],
   "source": [
    "print(f\"Reading amplicons from {config['amplicons_' + background]}\")\n",
    "print(f\"Reading feature parse specs from {config['feature_parse_specs_' + background]}\")\n",
    "\n",
    "targets = alignparse.targets.Targets(\n",
    "                seqsfile=config['amplicons_' + background],\n",
    "                feature_parse_specs=config['feature_parse_specs_' + background])"
   ]
  },
  {
   "cell_type": "markdown",
   "metadata": {},
   "source": [
    "Draw the target amplicons:"
   ]
  },
  {
   "cell_type": "code",
   "execution_count": 10,
   "metadata": {},
   "outputs": [
    {
     "name": "stdout",
     "output_type": "stream",
     "text": [
      "Saving plot to results/process_ccs/amplicons_BQ11.pdf\n"
     ]
    },
    {
     "data": {
      "image/png": "[encoded data removed]",
      "text/plain": [
       "<Figure size 700x200 with 1 Axes>"
      ]
     },
     "metadata": {},
     "output_type": "display_data"
    }
   ],
   "source": [
    "fig = targets.plot(ax_width=7,\n",
    "                   plots_indexing='biopython',  # numbering starts at 0\n",
    "                   ax_height=2,  # height of each plot\n",
    "                   hspace=1.2,  # vertical space between plots\n",
    "                   )\n",
    "\n",
    "plotfile = os.path.join(config['process_ccs_dir'], 'amplicons_'+background+'.pdf')\n",
    "print(f\"Saving plot to {plotfile}\")\n",
    "fig.savefig(plotfile, bbox_inches='tight')"
   ]
  },
  {
   "cell_type": "markdown",
   "metadata": {},
   "source": [
    "Write out the specs used to parse the features (these are the same specs provided as `feature_parse_specs` when initializing `targets`, but with defaults filled in):"
   ]
  },
  {
   "cell_type": "code",
   "execution_count": 11,
   "metadata": {},
   "outputs": [
    {
     "name": "stdout",
     "output_type": "stream",
     "text": [
      "BQ11:\n",
      "  query_clip5: 4\n",
      "  query_clip3: 4\n",
      "  termini5:\n",
      "    filter:\n",
      "      clip5: 4\n",
      "      mutation_nt_count: 1\n",
      "      mutation_op_count: null\n",
      "      clip3: 0\n",
      "    return: []\n",
      "  gene:\n",
      "    filter:\n",
      "      mutation_nt_count: 90\n",
      "      mutation_op_count: null\n",
      "      clip5: 0\n",
      "      clip3: 0\n",
      "    return:\n",
      "    - mutations\n",
      "    - accuracy\n",
      "  spacer:\n",
      "    filter:\n",
      "      mutation_nt_count: 1\n",
      "      mutation_op_count: null\n",
      "      clip5: 0\n",
      "      clip3: 0\n",
      "    return: []\n",
      "  barcode:\n",
      "    filter:\n",
      "      mutation_nt_count: 0\n",
      "      mutation_op_count: null\n",
      "      clip5: 0\n",
      "      clip3: 0\n",
      "    return:\n",
      "    - sequence\n",
      "    - accuracy\n",
      "  termini3:\n",
      "    filter:\n",
      "      clip3: 4\n",
      "      mutation_nt_count: 1\n",
      "      mutation_op_count: null\n",
      "      clip5: 0\n",
      "    return: []\n",
      "\n"
     ]
    }
   ],
   "source": [
    "print(targets.feature_parse_specs('yaml'))"
   ]
  },
  {
   "cell_type": "markdown",
   "metadata": {},
   "source": [
    "## Align CCSs to amplicons\n",
    "We now align the CCSs to the amplicon and parse features from the resulting alignments using the specs above.\n",
    "\n",
    "First, we initialize an `alignparse.minimap2.Mapper` to align the reads to SAM files:"
   ]
  },
  {
   "cell_type": "code",
   "execution_count": 12,
   "metadata": {},
   "outputs": [
    {
     "name": "stdout",
     "output_type": "stream",
     "text": [
      "Using `minimap2` 2.26-r1175 with these options:\n",
      "-A2 -B4 -O12 -E2 --end-bonus=13 --secondary=no --cs\n"
     ]
    }
   ],
   "source": [
    "mapper = alignparse.minimap2.Mapper(alignparse.minimap2.OPTIONS_CODON_DMS)\n",
    "\n",
    "print(f\"Using `minimap2` {mapper.version} with these options:\\n\" +\n",
    "      ' '.join(mapper.options))"
   ]
  },
  {
   "cell_type": "markdown",
   "metadata": {},
   "source": [
    "Next, we use `Targets.align_and_parse` to create the alignments and parse them:"
   ]
  },
  {
   "cell_type": "code",
   "execution_count": 13,
   "metadata": {},
   "outputs": [],
   "source": [
    "readstats, aligned, filtered = targets.align_and_parse(\n",
    "        df=pacbio_runs,\n",
    "        mapper=mapper,\n",
    "        outdir=config['process_ccs_dir'],\n",
    "        name_col='run',\n",
    "        group_cols=['name', 'library'],\n",
    "        queryfile_col='fastq',\n",
    "        overwrite=True,\n",
    "        ncpus=config['max_cpus'],\n",
    "        )"
   ]
  },
  {
   "cell_type": "markdown",
   "metadata": {},
   "source": [
    "First, examine the read stats from the alignment / parsing, both extracting alignment target name and getting stats aggregated by target:"
   ]
  },
  {
   "cell_type": "code",
   "execution_count": 14,
   "metadata": {},
   "outputs": [],
   "source": [
    "readstats = (\n",
    "    readstats\n",
    "    .assign(category_all_targets=lambda x: x['category'].str.split().str[0],\n",
    "            target=lambda x: x['category'].str.split(None, 1).str[1],\n",
    "            valid=lambda x: x['category_all_targets'] == 'aligned')\n",
    "    )"
   ]
  },
  {
   "cell_type": "markdown",
   "metadata": {},
   "source": [
    "Now plot the read stats by run (combining all targets and libraries within a run):"
   ]
  },
  {
   "cell_type": "code",
   "execution_count": 15,
   "metadata": {},
   "outputs": [],
   "source": [
    "ncol = 2\n",
    "p = (\n",
    "    ggplot(readstats\n",
    "           .groupby(['name', 'category_all_targets', 'valid'])\n",
    "           .aggregate({'count': 'sum'})\n",
    "           .reset_index(),\n",
    "           aes('category_all_targets', 'count', fill='valid')) +\n",
    "    geom_bar(stat='identity') +\n",
    "    facet_wrap('~ name', ncol=ncol) +\n",
    "    theme(axis_text_x=element_text(angle=90),\n",
    "          figure_size=(1.85 * min(ncol, len(pacbio_runs)),\n",
    "                       2 * math.ceil(len(pacbio_runs) / ncol)),\n",
    "          panel_grid_major_x=element_blank(),\n",
    "          legend_position='none',\n",
    "          ) +\n",
    "    scale_fill_manual(values=CBPALETTE)\n",
    "    )\n",
    "_ = p.draw()"
   ]
  },
  {
   "cell_type": "markdown",
   "metadata": {},
   "source": [
    "And the read stats by library (combining all targets and runs within a library):"
   ]
  },
  {
   "cell_type": "code",
   "execution_count": 16,
   "metadata": {},
   "outputs": [],
   "source": [
    "p = (\n",
    "    ggplot(readstats\n",
    "           .groupby(['library', 'category_all_targets', 'valid'])\n",
    "           .aggregate({'count': 'sum'})\n",
    "           .reset_index(), \n",
    "           aes('category_all_targets', 'count', fill='valid')) +\n",
    "    geom_bar(stat='identity') +\n",
    "    facet_wrap('~ library', nrow=1) +\n",
    "    theme(axis_text_x=element_text(angle=90),\n",
    "          figure_size=(1.5 * pacbio_runs['library'].nunique(), 2),\n",
    "          panel_grid_major_x=element_blank(),\n",
    "          legend_position='none',\n",
    "          ) +\n",
    "    scale_fill_manual(values=CBPALETTE)\n",
    "    )\n",
    "_ = p.draw()"
   ]
  },
  {
   "cell_type": "markdown",
   "metadata": {},
   "source": [
    "And the number of reads by target (combining all libraries and runs for a target):"
   ]
  },
  {
   "cell_type": "code",
   "execution_count": 17,
   "metadata": {},
   "outputs": [],
   "source": [
    "p = (\n",
    "    ggplot(readstats\n",
    "           .groupby(['target'])\n",
    "           .aggregate({'count': 'sum'})\n",
    "           .reset_index(), \n",
    "           aes('target', 'count')) +\n",
    "    geom_point(stat='identity', size=3) +\n",
    "    theme(axis_text_x=element_text(angle=90),\n",
    "          figure_size=(0.3 * readstats['target'].nunique(), 2),\n",
    "          panel_grid_major_x=element_blank(),\n",
    "          ) +\n",
    "    scale_y_log10(name='number of reads')\n",
    "    )\n",
    "_ = p.draw()"
   ]
  },
  {
   "cell_type": "markdown",
   "metadata": {},
   "source": [
    "And read stats by target (combining all libraries and runs for a target):"
   ]
  },
  {
   "cell_type": "code",
   "execution_count": 18,
   "metadata": {},
   "outputs": [],
   "source": [
    "p = (\n",
    "    ggplot(readstats\n",
    "           .groupby(['target', 'valid'])\n",
    "           .aggregate({'count': 'sum'})\n",
    "           .reset_index()\n",
    "           .assign(total=lambda x: x.groupby('target')['count'].transform('sum'),\n",
    "                   frac=lambda x: x['count'] / x['total'],\n",
    "                   ), \n",
    "           aes('target', 'frac', fill='valid')) +\n",
    "    geom_bar(stat='identity') +\n",
    "    theme(axis_text_x=element_text(angle=90),\n",
    "          figure_size=(0.5 * readstats['target'].nunique(), 2),\n",
    "          panel_grid_major_x=element_blank(),\n",
    "          ) +\n",
    "    scale_fill_manual(values=CBPALETTE)\n",
    "    )\n",
    "_ = p.draw()"
   ]
  },
  {
   "cell_type": "markdown",
   "metadata": {},
   "source": [
    "Now let's see **why** we filtered the reads.\n",
    "First, we do some transformations on the `filtered` dict returned by `Targets.align_and_parse`.\n",
    "Then we count up the number of CCSs filtered for each reason, and group together \"unusual\" reasons that represent less than some fraction of all filtering.\n",
    "For now, we group together all targets to the stats represent all targets combined:"
   ]
  },
  {
   "cell_type": "code",
   "execution_count": 19,
   "metadata": {},
   "outputs": [],
   "source": [
    "other_cutoff = 0.02  # group as \"other\" reasons with <= this frac\n",
    "\n",
    "filtered_df = (\n",
    "    pd.concat(df.assign(target=target) for target, df in filtered.items())\n",
    "    .groupby(['library', 'name', 'run', 'filter_reason'])\n",
    "    .size()\n",
    "    .rename('count')\n",
    "    .reset_index()\n",
    "    .assign(tot_reason_frac=lambda x: (x.groupby('filter_reason')['count']\n",
    "                                       .transform('sum')) / x['count'].sum(),\n",
    "            filter_reason=lambda x: numpy.where(x['tot_reason_frac'] > other_cutoff,\n",
    "                                                x['filter_reason'],\n",
    "                                                'other')\n",
    "            )\n",
    "    )"
   ]
  },
  {
   "cell_type": "markdown",
   "metadata": {},
   "source": [
    "Now plot the filtering reason for all runs:"
   ]
  },
  {
   "cell_type": "code",
   "execution_count": 20,
   "metadata": {},
   "outputs": [],
   "source": [
    "ncol = 7\n",
    "nreasons = filtered_df['filter_reason'].nunique()\n",
    "\n",
    "p = (\n",
    "    ggplot(filtered_df, aes('filter_reason', 'count')) +\n",
    "    geom_bar(stat='identity') +\n",
    "    facet_wrap('~ name', ncol=ncol) +\n",
    "    theme(axis_text_x=element_text(angle=90),\n",
    "          figure_size=(0.25 * nreasons * min(ncol, len(pacbio_runs)),\n",
    "                       2 * math.ceil(len(pacbio_runs) / ncol)),\n",
    "          panel_grid_major_x=element_blank(),\n",
    "          )\n",
    "    )\n",
    "_ = p.draw()"
   ]
  },
  {
   "cell_type": "markdown",
   "metadata": {},
   "source": [
    "Finally, we take the successfully parsed alignments and read them into a data frame, keeping track of the target that each CCS aligns to.\n",
    "We also drop the pieces of information we won't use going forward, and rename a few columns:"
   ]
  },
  {
   "cell_type": "code",
   "execution_count": 21,
   "metadata": {},
   "outputs": [
    {
     "name": "stdout",
     "output_type": "stream",
     "text": [
      "First few lines of information on the parsed alignments:\n"
     ]
    },
    {
     "data": {
      "text/html": [
       "<table border=\"1\" class=\"dataframe\">\n",
       "  <thead>\n",
       "    <tr style=\"text-align: right;\">\n",
       "      <th>library</th>\n",
       "      <th>query_name</th>\n",
       "      <th>gene_mutations</th>\n",
       "      <th>gene_accuracy</th>\n",
       "      <th>barcode</th>\n",
       "      <th>barcode_accuracy</th>\n",
       "      <th>target</th>\n",
       "    </tr>\n",
       "  </thead>\n",
       "  <tbody>\n",
       "    <tr>\n",
       "      <td>pool1</td>\n",
       "      <td>m64272e_230518_163630/8/ccs</td>\n",
       "      <td>T472A C474A</td>\n",
       "      <td>1.000000</td>\n",
       "      <td>ATACATTACACGGCTT</td>\n",
       "      <td>1.0</td>\n",
       "      <td>BQ11</td>\n",
       "    </tr>\n",
       "    <tr>\n",
       "      <td>pool1</td>\n",
       "      <td>m64272e_230518_163630/11/ccs</td>\n",
       "      <td>C391A T392A</td>\n",
       "      <td>1.000000</td>\n",
       "      <td>TAAACAATTCAAATGT</td>\n",
       "      <td>1.0</td>\n",
       "      <td>BQ11</td>\n",
       "    </tr>\n",
       "    <tr>\n",
       "      <td>pool1</td>\n",
       "      <td>m64272e_230518_163630/12/ccs</td>\n",
       "      <td>T336A</td>\n",
       "      <td>1.000000</td>\n",
       "      <td>TTAAACTACATTCGCA</td>\n",
       "      <td>1.0</td>\n",
       "      <td>BQ11</td>\n",
       "    </tr>\n",
       "    <tr>\n",
       "      <td>pool1</td>\n",
       "      <td>m64272e_230518_163630/35/ccs</td>\n",
       "      <td>T32A ins566G</td>\n",
       "      <td>0.999229</td>\n",
       "      <td>ATTTCTAGGTAGGTAG</td>\n",
       "      <td>1.0</td>\n",
       "      <td>BQ11</td>\n",
       "    </tr>\n",
       "    <tr>\n",
       "      <td>pool1</td>\n",
       "      <td>m64272e_230518_163630/56/ccs</td>\n",
       "      <td>G496C G497A C498T</td>\n",
       "      <td>1.000000</td>\n",
       "      <td>CGGAAAATTATTACAT</td>\n",
       "      <td>1.0</td>\n",
       "      <td>BQ11</td>\n",
       "    </tr>\n",
       "  </tbody>\n",
       "</table>"
      ],
      "text/plain": [
       "<IPython.core.display.HTML object>"
      ]
     },
     "metadata": {},
     "output_type": "display_data"
    }
   ],
   "source": [
    "aligned_df = (\n",
    "    pd.concat(df.assign(target=target) for target, df in aligned.items())\n",
    "    .drop(columns=['query_clip5', 'query_clip3', 'run','name'])\n",
    "    .rename(columns={'barcode_sequence': 'barcode'})\n",
    "    )\n",
    "\n",
    "print(f\"First few lines of information on the parsed alignments:\")\n",
    "display(HTML(aligned_df.head().to_html(index=False)))"
   ]
  },
  {
   "cell_type": "markdown",
   "metadata": {},
   "source": [
    "## Write valid CCSs"
   ]
  },
  {
   "cell_type": "markdown",
   "metadata": {},
   "source": [
    "Write the processed CCSs to a file:"
   ]
  },
  {
   "cell_type": "code",
   "execution_count": 22,
   "metadata": {},
   "outputs": [
    {
     "name": "stdout",
     "output_type": "stream",
     "text": [
      "Barcodes and mutations for valid processed CCSs have been written to results/process_ccs/processed_ccs_BQ11.csv.\n"
     ]
    }
   ],
   "source": [
    "aligned_df.to_csv(config['processed_ccs_file' + '_' + background], index=False)\n",
    "\n",
    "print(\"Barcodes and mutations for valid processed CCSs \"\n",
    "      f\"have been written to {config['processed_ccs_file' + '_' + background]}.\")"
   ]
  },
  {
   "cell_type": "markdown",
   "metadata": {},
   "source": [
    "Next, we analyze these processed CCSs to build the variants."
   ]
  },
  {
   "cell_type": "markdown",
   "metadata": {},
   "source": [
    "# Build barcode variant table\n",
    "Builds consensus sequences for barcoded variants from the mutations called in the processed PacBio CCSs.\n",
    "Uses these consensus sequences to build a codon variant table."
   ]
  },
  {
   "cell_type": "markdown",
   "metadata": {},
   "source": [
    "Make output directories if needed:"
   ]
  },
  {
   "cell_type": "code",
   "execution_count": 23,
   "metadata": {},
   "outputs": [],
   "source": [
    "os.makedirs(config['variants_dir'], exist_ok=True)\n",
    "os.makedirs(config['figs_dir'], exist_ok=True)"
   ]
  },
  {
   "cell_type": "markdown",
   "metadata": {},
   "source": [
    "Read the CSV file with the processed CCSs into a data frame, display first few lines:"
   ]
  },
  {
   "cell_type": "code",
   "execution_count": 24,
   "metadata": {},
   "outputs": [
    {
     "name": "stdout",
     "output_type": "stream",
     "text": [
      "Read 1934730 CCSs from 2 libraries and 1 targets.\n"
     ]
    },
    {
     "data": {
      "text/html": [
       "<table border=\"1\" class=\"dataframe\">\n",
       "  <thead>\n",
       "    <tr style=\"text-align: right;\">\n",
       "      <th>library</th>\n",
       "      <th>query_name</th>\n",
       "      <th>gene_mutations</th>\n",
       "      <th>gene_accuracy</th>\n",
       "      <th>barcode</th>\n",
       "      <th>barcode_accuracy</th>\n",
       "      <th>target</th>\n",
       "    </tr>\n",
       "  </thead>\n",
       "  <tbody>\n",
       "    <tr>\n",
       "      <td>pool1</td>\n",
       "      <td>m64272e_230518_163630/8/ccs</td>\n",
       "      <td>T472A C474A</td>\n",
       "      <td>1.000000</td>\n",
       "      <td>ATACATTACACGGCTT</td>\n",
       "      <td>1.0</td>\n",
       "      <td>BQ11</td>\n",
       "    </tr>\n",
       "    <tr>\n",
       "      <td>pool1</td>\n",
       "      <td>m64272e_230518_163630/11/ccs</td>\n",
       "      <td>C391A T392A</td>\n",
       "      <td>1.000000</td>\n",
       "      <td>TAAACAATTCAAATGT</td>\n",
       "      <td>1.0</td>\n",
       "      <td>BQ11</td>\n",
       "    </tr>\n",
       "    <tr>\n",
       "      <td>pool1</td>\n",
       "      <td>m64272e_230518_163630/12/ccs</td>\n",
       "      <td>T336A</td>\n",
       "      <td>1.000000</td>\n",
       "      <td>TTAAACTACATTCGCA</td>\n",
       "      <td>1.0</td>\n",
       "      <td>BQ11</td>\n",
       "    </tr>\n",
       "    <tr>\n",
       "      <td>pool1</td>\n",
       "      <td>m64272e_230518_163630/35/ccs</td>\n",
       "      <td>T32A ins566G</td>\n",
       "      <td>0.999229</td>\n",
       "      <td>ATTTCTAGGTAGGTAG</td>\n",
       "      <td>1.0</td>\n",
       "      <td>BQ11</td>\n",
       "    </tr>\n",
       "    <tr>\n",
       "      <td>pool1</td>\n",
       "      <td>m64272e_230518_163630/56/ccs</td>\n",
       "      <td>G496C G497A C498T</td>\n",
       "      <td>1.000000</td>\n",
       "      <td>CGGAAAATTATTACAT</td>\n",
       "      <td>1.0</td>\n",
       "      <td>BQ11</td>\n",
       "    </tr>\n",
       "  </tbody>\n",
       "</table>"
      ],
      "text/plain": [
       "<IPython.core.display.HTML object>"
      ]
     },
     "metadata": {},
     "output_type": "display_data"
    }
   ],
   "source": [
    "processed_ccs = pd.read_csv(config['processed_ccs_file' + '_' + background], na_filter=None)\n",
    "\n",
    "nlibs = processed_ccs['library'].nunique()  # number of unique libraries\n",
    "\n",
    "ntargets = processed_ccs['target'].nunique()  # number of unique targets\n",
    "\n",
    "print(f\"Read {len(processed_ccs)} CCSs from {nlibs} libraries and {ntargets} targets.\")\n",
    "\n",
    "display(HTML(processed_ccs.head().to_html(index=False)))"
   ]
  },
  {
   "cell_type": "markdown",
   "metadata": {},
   "source": [
    "Optional: discard reads that have a `fwd` or `rev` indicator suggestive of heteroduplexes (or we suspect in these runs, some form of pseudo-duplex)."
   ]
  },
  {
   "cell_type": "code",
   "execution_count": 25,
   "metadata": {},
   "outputs": [],
   "source": [
    "#start = len(processed_ccs)\n",
    "#processed_ccs = processed_ccs.loc[~processed_ccs['query_name'].str.contains('fwd')]\n",
    "#processed_ccs = processed_ccs.loc[~processed_ccs['query_name'].str.contains('rev')]\n",
    "#end = len(processed_ccs)\n",
    "\n",
    "#print(f\"Went from {start} CCSs to {end} after discarded split/duplexed fwd and rev reads.\")\n",
    "\n",
    "#display(HTML(processed_ccs.head().to_html(index=False)))"
   ]
  },
  {
   "cell_type": "markdown",
   "metadata": {},
   "source": [
    "Overall statistics on number of total CCSs and number of unique barcodes:"
   ]
  },
  {
   "cell_type": "code",
   "execution_count": 26,
   "metadata": {},
   "outputs": [
    {
     "data": {
      "text/html": [
       "<table border=\"1\" class=\"dataframe\">\n",
       "  <thead>\n",
       "    <tr style=\"text-align: right;\">\n",
       "      <th></th>\n",
       "      <th></th>\n",
       "      <th>total_CCSs</th>\n",
       "      <th>unique_barcodes</th>\n",
       "      <th>avg_CCSs_per_barcode</th>\n",
       "    </tr>\n",
       "    <tr>\n",
       "      <th>target</th>\n",
       "      <th>library</th>\n",
       "      <th></th>\n",
       "      <th></th>\n",
       "      <th></th>\n",
       "    </tr>\n",
       "  </thead>\n",
       "  <tbody>\n",
       "    <tr>\n",
       "      <th rowspan=\"2\" valign=\"top\">BQ11</th>\n",
       "      <th>pool1</th>\n",
       "      <td>890438</td>\n",
       "      <td>112707</td>\n",
       "      <td>7.90</td>\n",
       "    </tr>\n",
       "    <tr>\n",
       "      <th>pool2</th>\n",
       "      <td>1044292</td>\n",
       "      <td>120885</td>\n",
       "      <td>8.64</td>\n",
       "    </tr>\n",
       "  </tbody>\n",
       "</table>"
      ],
      "text/plain": [
       "<IPython.core.display.HTML object>"
      ]
     },
     "metadata": {},
     "output_type": "display_data"
    }
   ],
   "source": [
    "display(HTML(\n",
    "    processed_ccs\n",
    "    .groupby(['target', 'library'])\n",
    "    .aggregate(total_CCSs=('barcode', 'size'),\n",
    "               unique_barcodes=('barcode', 'nunique'))\n",
    "    .assign(avg_CCSs_per_barcode=lambda x: x['total_CCSs'] / x['unique_barcodes'])\n",
    "    .round(2)\n",
    "    .to_html()\n",
    "    ))"
   ]
  },
  {
   "cell_type": "markdown",
   "metadata": {},
   "source": [
    "### Filter processed CCSs\n",
    "We have the PacBio `ccs` program's estimated \"accuracy\" for both the barcode and the gene sequence for each processed CCS.\n",
    "We will filter the CCSs to only keep ones of sufficiently high accuracy.\n",
    "\n",
    "First, we want to plot the accuracies.\n",
    "It is actually visually easier to look at the error rate, which is one minus the accuracy.\n",
    "Because we want to plot on a log scale (which can't show error rates of zero), we define a *error_rate_floor*, and set all error rates less than this to that value:"
   ]
  },
  {
   "cell_type": "code",
   "execution_count": 27,
   "metadata": {},
   "outputs": [],
   "source": [
    "error_rate_floor = 1e-7  # error rates < this set to this\n",
    "if error_rate_floor >= config['max_error_rate']:\n",
    "    raise ValueError('error_rate_floor must be < max_error_rate')\n",
    "\n",
    "processed_ccs = (\n",
    "    processed_ccs\n",
    "    .assign(barcode_error=lambda x: numpy.clip(1 - x['barcode_accuracy'],\n",
    "                                               error_rate_floor, None),\n",
    "            gene_error=lambda x: numpy.clip(1 - x['gene_accuracy'],\n",
    "                                            error_rate_floor, None)\n",
    "            )\n",
    "    )"
   ]
  },
  {
   "cell_type": "markdown",
   "metadata": {},
   "source": [
    "Now plot the error rates, drawing a dashed vertical line at the threshold separating the CCSs we retain for consensus building versus those that we discard:"
   ]
  },
  {
   "cell_type": "code",
   "execution_count": 28,
   "metadata": {},
   "outputs": [],
   "source": [
    "_ = (\n",
    " ggplot(processed_ccs\n",
    "        .melt(value_vars=['barcode_error', 'gene_error'],\n",
    "              var_name='feature_type', value_name='error rate'),\n",
    "        aes('error rate')) +\n",
    " geom_histogram(bins=25) +\n",
    " geom_vline(xintercept=config['max_error_rate'],\n",
    "            linetype='dashed',\n",
    "            color=CBPALETTE[1]) +\n",
    " facet_wrap('~ feature_type') +\n",
    " theme(figure_size=(4.5, 2)) +\n",
    " ylab('number of CCSs') +\n",
    " scale_x_log10()\n",
    " ).draw()"
   ]
  },
  {
   "cell_type": "markdown",
   "metadata": {},
   "source": [
    "Flag the CCSs to retain, and indicate how many we are retaining and purging due to the accuracy filter:"
   ]
  },
  {
   "cell_type": "code",
   "execution_count": 29,
   "metadata": {},
   "outputs": [],
   "source": [
    "processed_ccs = (\n",
    "    processed_ccs\n",
    "    .assign(retained=lambda x: ((x['gene_error'] < config['max_error_rate']) &\n",
    "                                (x['barcode_error'] < config['max_error_rate'])))\n",
    "    )"
   ]
  },
  {
   "cell_type": "markdown",
   "metadata": {},
   "source": [
    "Here are number of retained CCSs:"
   ]
  },
  {
   "cell_type": "code",
   "execution_count": 30,
   "metadata": {},
   "outputs": [],
   "source": [
    "_ = (\n",
    " ggplot(processed_ccs.assign(xlabel=lambda x: x['target'] + ', ' + x['library'])\n",
    "                     .groupby(['xlabel', 'retained'])\n",
    "                     .size()\n",
    "                     .rename('count')\n",
    "                     .reset_index(),\n",
    "        aes('xlabel', 'count', color='retained', label='count')) +\n",
    " geom_point(size=3) +\n",
    " geom_text(va='bottom', size=7, ha='center',format_string='{:.3g}', nudge_y=0.2) +\n",
    " theme(figure_size=(0.5 * nlibs * ntargets, 3),\n",
    "       panel_grid_major_x=element_blank(),\n",
    "       axis_text_x=element_text(angle=90),\n",
    "       ) +\n",
    " scale_y_log10(name='number of CCSs') +\n",
    " xlab('') +\n",
    " scale_color_manual(values=CBPALETTE[1:])\n",
    " ).draw()"
   ]
  },
  {
   "cell_type": "markdown",
   "metadata": {},
   "source": [
    "### Sequences per barcode\n",
    "How many times is each barcode sequenced?\n",
    "This is useful to know for thinking about building the barcode consensus.\n",
    "\n",
    "Plot the distribution of the number of times each **barcode** is observed among the retained CCSs:"
   ]
  },
  {
   "cell_type": "code",
   "execution_count": 31,
   "metadata": {},
   "outputs": [],
   "source": [
    "max_count = 8 # in plot, group all barcodes with >= this many counts\n",
    "\n",
    "p = (\n",
    " ggplot(\n",
    "    processed_ccs\n",
    "     .query('retained')\n",
    "     .groupby(['library', 'barcode'])\n",
    "     .size()\n",
    "     .rename('nseqs')\n",
    "     .reset_index()\n",
    "     .assign(nseqs=lambda x: numpy.clip(x['nseqs'], None, max_count)),\n",
    "    aes('nseqs')) +\n",
    " geom_bar() +\n",
    " facet_wrap('~ library', nrow=1) +\n",
    " theme(figure_size=(1.75 * nlibs, 2),\n",
    "       panel_grid_major_x=element_blank(),\n",
    "       ) +\n",
    " ylab('number of barcodes') +\n",
    " xlab('CCSs for barcode')\n",
    " )\n",
    "\n",
    "_ = p.draw()"
   ]
  },
  {
   "cell_type": "markdown",
   "metadata": {},
   "source": [
    "### Empirical accuracy of CCSs\n",
    "We want to directly estimate the accuracy of the gene-barcode link rather than relying on the PacBio `ccs` accuracy, which doesn't include inaccuracies due to things like strand exchange or the same barcode on different sequences.\n",
    "\n",
    "One way to do this is to examine instances when we have multiple sequences for the same barcode. \n",
    "We can calculate the empirical accuracy of the sequences by looking at all instances of multiple sequences of the same barcode and determining how often they are identical.\n",
    "This calculation is performed by `alignparse.consensus.empirical_accuracy` using the equations described in the docs for that function.\n",
    "\n",
    "We will do this four for sets of sequences:\n",
    "\n",
    " 1. All of the CCSs retained above.\n",
    " 2. CCSs retained by applying a PacBio `ccs` accuracy filter 10-fold more stringent than the one above.\n",
    "    The rationale is that if this improves the concordance (real accuracy) of the CCSs substantially then maybe we should make the accuracy filter more stringent.\n",
    " 3. Like (1) but excluding all CCSs with indels.\n",
    "    the rationale is that we only really care about substitutions, and will exclude sequences with indels anyway.\n",
    " 4. Like (2) but excluding all CCSs with indels.\n",
    " \n",
    "First, we annotate the sequences with the number of indels and whether they have an indel to enable categorization into the aforementioned sets. We want to convert the way we call *only* in-frame deletions to be substitution style (that is, `del511to513` becomes `C511- C512- G513-`), if the deletion is a single-codon in-frame deletion. We do this using alignparse util InFrameDeletionsToSubs. Below, when we parse indels, these in-frame deletions will be treated as \"substitutions\" and not add to indel counts, so we can then parse on indel count which will be count of out-of-frame indels.:"
   ]
  },
  {
   "cell_type": "code",
   "execution_count": 32,
   "metadata": {},
   "outputs": [
    {
     "name": "stdout",
     "output_type": "stream",
     "text": [
      "Read gene of 603 nts for BQ11 from data/PacBio_amplicon_BQ11.gb\n"
     ]
    }
   ],
   "source": [
    "targets = alignparse.targets.Targets(seqsfile=config['amplicons_' + background],\n",
    "                                     feature_parse_specs=config['feature_parse_specs_' + background])\n",
    "geneseq = targets.get_target(background).get_feature('gene').seq\n",
    "\n",
    "print(f\"Read gene of {len(geneseq)} nts for {background} from {config['amplicons_' + background]}\")"
   ]
  },
  {
   "cell_type": "code",
   "execution_count": 33,
   "metadata": {},
   "outputs": [
    {
     "data": {
      "text/html": [
       "<div>\n",
       "<style scoped>\n",
       "    .dataframe tbody tr th:only-of-type {\n",
       "        vertical-align: middle;\n",
       "    }\n",
       "\n",
       "    .dataframe tbody tr th {\n",
       "        vertical-align: top;\n",
       "    }\n",
       "\n",
       "    .dataframe thead th {\n",
       "        text-align: right;\n",
       "    }\n",
       "</style>\n",
       "<table border=\"1\" class=\"dataframe\">\n",
       "  <thead>\n",
       "    <tr style=\"text-align: right;\">\n",
       "      <th></th>\n",
       "      <th>library</th>\n",
       "      <th>query_name</th>\n",
       "      <th>gene_mutations</th>\n",
       "      <th>gene_accuracy</th>\n",
       "      <th>barcode</th>\n",
       "      <th>barcode_accuracy</th>\n",
       "      <th>target</th>\n",
       "      <th>barcode_error</th>\n",
       "      <th>gene_error</th>\n",
       "      <th>retained</th>\n",
       "      <th>gene_mutations_with_del</th>\n",
       "      <th>n_indels</th>\n",
       "      <th>has_indel</th>\n",
       "    </tr>\n",
       "  </thead>\n",
       "  <tbody>\n",
       "    <tr>\n",
       "      <th>0</th>\n",
       "      <td>pool1</td>\n",
       "      <td>m64272e_230518_163630/8/ccs</td>\n",
       "      <td>T472A C474A</td>\n",
       "      <td>1.000000</td>\n",
       "      <td>ATACATTACACGGCTT</td>\n",
       "      <td>1.000000</td>\n",
       "      <td>BQ11</td>\n",
       "      <td>1.000000e-07</td>\n",
       "      <td>1.000000e-07</td>\n",
       "      <td>True</td>\n",
       "      <td>T472A C474A</td>\n",
       "      <td>0</td>\n",
       "      <td>False</td>\n",
       "    </tr>\n",
       "    <tr>\n",
       "      <th>1</th>\n",
       "      <td>pool1</td>\n",
       "      <td>m64272e_230518_163630/11/ccs</td>\n",
       "      <td>C391A T392A</td>\n",
       "      <td>1.000000</td>\n",
       "      <td>TAAACAATTCAAATGT</td>\n",
       "      <td>1.000000</td>\n",
       "      <td>BQ11</td>\n",
       "      <td>1.000000e-07</td>\n",
       "      <td>1.000000e-07</td>\n",
       "      <td>True</td>\n",
       "      <td>C391A T392A</td>\n",
       "      <td>0</td>\n",
       "      <td>False</td>\n",
       "    </tr>\n",
       "    <tr>\n",
       "      <th>2</th>\n",
       "      <td>pool1</td>\n",
       "      <td>m64272e_230518_163630/12/ccs</td>\n",
       "      <td>T336A</td>\n",
       "      <td>1.000000</td>\n",
       "      <td>TTAAACTACATTCGCA</td>\n",
       "      <td>1.000000</td>\n",
       "      <td>BQ11</td>\n",
       "      <td>1.000000e-07</td>\n",
       "      <td>1.000000e-07</td>\n",
       "      <td>True</td>\n",
       "      <td>T336A</td>\n",
       "      <td>0</td>\n",
       "      <td>False</td>\n",
       "    </tr>\n",
       "    <tr>\n",
       "      <th>3</th>\n",
       "      <td>pool1</td>\n",
       "      <td>m64272e_230518_163630/35/ccs</td>\n",
       "      <td>T32A ins566G</td>\n",
       "      <td>0.999229</td>\n",
       "      <td>ATTTCTAGGTAGGTAG</td>\n",
       "      <td>1.000000</td>\n",
       "      <td>BQ11</td>\n",
       "      <td>1.000000e-07</td>\n",
       "      <td>7.709788e-04</td>\n",
       "      <td>False</td>\n",
       "      <td>T32A ins566G</td>\n",
       "      <td>1</td>\n",
       "      <td>True</td>\n",
       "    </tr>\n",
       "    <tr>\n",
       "      <th>4</th>\n",
       "      <td>pool1</td>\n",
       "      <td>m64272e_230518_163630/56/ccs</td>\n",
       "      <td>G496C G497A C498T</td>\n",
       "      <td>1.000000</td>\n",
       "      <td>CGGAAAATTATTACAT</td>\n",
       "      <td>1.000000</td>\n",
       "      <td>BQ11</td>\n",
       "      <td>1.000000e-07</td>\n",
       "      <td>1.000000e-07</td>\n",
       "      <td>True</td>\n",
       "      <td>G496C G497A C498T</td>\n",
       "      <td>0</td>\n",
       "      <td>False</td>\n",
       "    </tr>\n",
       "    <tr>\n",
       "      <th>5</th>\n",
       "      <td>pool1</td>\n",
       "      <td>m64272e_230518_163630/63/ccs</td>\n",
       "      <td>G292A C294A ins567C</td>\n",
       "      <td>0.999997</td>\n",
       "      <td>TCCAACAGAAGAATAT</td>\n",
       "      <td>1.000000</td>\n",
       "      <td>BQ11</td>\n",
       "      <td>1.000000e-07</td>\n",
       "      <td>3.057790e-06</td>\n",
       "      <td>True</td>\n",
       "      <td>G292A C294A ins567C</td>\n",
       "      <td>1</td>\n",
       "      <td>True</td>\n",
       "    </tr>\n",
       "    <tr>\n",
       "      <th>6</th>\n",
       "      <td>pool1</td>\n",
       "      <td>m64272e_230518_163630/75/ccs</td>\n",
       "      <td>del520to522</td>\n",
       "      <td>1.000000</td>\n",
       "      <td>ATAAGTGAAGCCATAA</td>\n",
       "      <td>1.000000</td>\n",
       "      <td>BQ11</td>\n",
       "      <td>1.000000e-07</td>\n",
       "      <td>1.000000e-07</td>\n",
       "      <td>True</td>\n",
       "      <td>G520- G521- T522-</td>\n",
       "      <td>0</td>\n",
       "      <td>False</td>\n",
       "    </tr>\n",
       "    <tr>\n",
       "      <th>7</th>\n",
       "      <td>pool1</td>\n",
       "      <td>m64272e_230518_163630/76/ccs</td>\n",
       "      <td>G154T T155C C156T del247to247</td>\n",
       "      <td>0.998280</td>\n",
       "      <td>AATAATGTCCAATTAA</td>\n",
       "      <td>0.999842</td>\n",
       "      <td>BQ11</td>\n",
       "      <td>1.580377e-04</td>\n",
       "      <td>1.720106e-03</td>\n",
       "      <td>False</td>\n",
       "      <td>G154T T155C C156T del247to247</td>\n",
       "      <td>1</td>\n",
       "      <td>True</td>\n",
       "    </tr>\n",
       "    <tr>\n",
       "      <th>8</th>\n",
       "      <td>pool1</td>\n",
       "      <td>m64272e_230518_163630/80/ccs</td>\n",
       "      <td>A418G C419A G420T</td>\n",
       "      <td>1.000000</td>\n",
       "      <td>AGCCATACGGACAGGT</td>\n",
       "      <td>1.000000</td>\n",
       "      <td>BQ11</td>\n",
       "      <td>1.000000e-07</td>\n",
       "      <td>1.000000e-07</td>\n",
       "      <td>True</td>\n",
       "      <td>A418G C419A G420T</td>\n",
       "      <td>0</td>\n",
       "      <td>False</td>\n",
       "    </tr>\n",
       "    <tr>\n",
       "      <th>9</th>\n",
       "      <td>pool1</td>\n",
       "      <td>m64272e_230518_163630/103/ccs</td>\n",
       "      <td>A322G G323C C324T</td>\n",
       "      <td>1.000000</td>\n",
       "      <td>GCTATTCAGATTCACA</td>\n",
       "      <td>1.000000</td>\n",
       "      <td>BQ11</td>\n",
       "      <td>1.000000e-07</td>\n",
       "      <td>1.000000e-07</td>\n",
       "      <td>True</td>\n",
       "      <td>A322G G323C C324T</td>\n",
       "      <td>0</td>\n",
       "      <td>False</td>\n",
       "    </tr>\n",
       "    <tr>\n",
       "      <th>10</th>\n",
       "      <td>pool1</td>\n",
       "      <td>m64272e_230518_163630/104/ccs</td>\n",
       "      <td>G289T A290T T291G</td>\n",
       "      <td>1.000000</td>\n",
       "      <td>TAGCAAAACACCATAC</td>\n",
       "      <td>1.000000</td>\n",
       "      <td>BQ11</td>\n",
       "      <td>1.000000e-07</td>\n",
       "      <td>1.000000e-07</td>\n",
       "      <td>True</td>\n",
       "      <td>G289T A290T T291G</td>\n",
       "      <td>0</td>\n",
       "      <td>False</td>\n",
       "    </tr>\n",
       "    <tr>\n",
       "      <th>11</th>\n",
       "      <td>pool1</td>\n",
       "      <td>m64272e_230518_163630/109/ccs</td>\n",
       "      <td>T367A A368G T369G</td>\n",
       "      <td>1.000000</td>\n",
       "      <td>CATTTGGACACAGGAT</td>\n",
       "      <td>1.000000</td>\n",
       "      <td>BQ11</td>\n",
       "      <td>1.000000e-07</td>\n",
       "      <td>1.000000e-07</td>\n",
       "      <td>True</td>\n",
       "      <td>T367A A368G T369G</td>\n",
       "      <td>0</td>\n",
       "      <td>False</td>\n",
       "    </tr>\n",
       "  </tbody>\n",
       "</table>\n",
       "</div>"
      ],
      "text/plain": [
       "   library                     query_name                 gene_mutations  \\\n",
       "0    pool1    m64272e_230518_163630/8/ccs                    T472A C474A   \n",
       "1    pool1   m64272e_230518_163630/11/ccs                    C391A T392A   \n",
       "2    pool1   m64272e_230518_163630/12/ccs                          T336A   \n",
       "3    pool1   m64272e_230518_163630/35/ccs                   T32A ins566G   \n",
       "4    pool1   m64272e_230518_163630/56/ccs              G496C G497A C498T   \n",
       "5    pool1   m64272e_230518_163630/63/ccs            G292A C294A ins567C   \n",
       "6    pool1   m64272e_230518_163630/75/ccs                    del520to522   \n",
       "7    pool1   m64272e_230518_163630/76/ccs  G154T T155C C156T del247to247   \n",
       "8    pool1   m64272e_230518_163630/80/ccs              A418G C419A G420T   \n",
       "9    pool1  m64272e_230518_163630/103/ccs              A322G G323C C324T   \n",
       "10   pool1  m64272e_230518_163630/104/ccs              G289T A290T T291G   \n",
       "11   pool1  m64272e_230518_163630/109/ccs              T367A A368G T369G   \n",
       "\n",
       "    gene_accuracy           barcode  barcode_accuracy target  barcode_error  \\\n",
       "0        1.000000  ATACATTACACGGCTT          1.000000   BQ11   1.000000e-07   \n",
       "1        1.000000  TAAACAATTCAAATGT          1.000000   BQ11   1.000000e-07   \n",
       "2        1.000000  TTAAACTACATTCGCA          1.000000   BQ11   1.000000e-07   \n",
       "3        0.999229  ATTTCTAGGTAGGTAG          1.000000   BQ11   1.000000e-07   \n",
       "4        1.000000  CGGAAAATTATTACAT          1.000000   BQ11   1.000000e-07   \n",
       "5        0.999997  TCCAACAGAAGAATAT          1.000000   BQ11   1.000000e-07   \n",
       "6        1.000000  ATAAGTGAAGCCATAA          1.000000   BQ11   1.000000e-07   \n",
       "7        0.998280  AATAATGTCCAATTAA          0.999842   BQ11   1.580377e-04   \n",
       "8        1.000000  AGCCATACGGACAGGT          1.000000   BQ11   1.000000e-07   \n",
       "9        1.000000  GCTATTCAGATTCACA          1.000000   BQ11   1.000000e-07   \n",
       "10       1.000000  TAGCAAAACACCATAC          1.000000   BQ11   1.000000e-07   \n",
       "11       1.000000  CATTTGGACACAGGAT          1.000000   BQ11   1.000000e-07   \n",
       "\n",
       "      gene_error  retained        gene_mutations_with_del  n_indels  has_indel  \n",
       "0   1.000000e-07      True                    T472A C474A         0      False  \n",
       "1   1.000000e-07      True                    C391A T392A         0      False  \n",
       "2   1.000000e-07      True                          T336A         0      False  \n",
       "3   7.709788e-04     False                   T32A ins566G         1       True  \n",
       "4   1.000000e-07      True              G496C G497A C498T         0      False  \n",
       "5   3.057790e-06      True            G292A C294A ins567C         1       True  \n",
       "6   1.000000e-07      True              G520- G521- T522-         0      False  \n",
       "7   1.720106e-03     False  G154T T155C C156T del247to247         1       True  \n",
       "8   1.000000e-07      True              A418G C419A G420T         0      False  \n",
       "9   1.000000e-07      True              A322G G323C C324T         0      False  \n",
       "10  1.000000e-07      True              G289T A290T T291G         0      False  \n",
       "11  1.000000e-07      True              T367A A368G T369G         0      False  "
      ]
     },
     "execution_count": 33,
     "metadata": {},
     "output_type": "execute_result"
    }
   ],
   "source": [
    "processed_ccs = processed_ccs.reset_index(drop=True)\n",
    "\n",
    "deltosubs = alignparse.utils.InFrameDeletionsToSubs(geneseq)\n",
    "\n",
    "processed_ccs['gene_mutations_with_del'] = processed_ccs.apply(lambda x: deltosubs.dels_to_subs(x['gene_mutations']), axis=1)\n",
    "\n",
    "processed_ccs = alignparse.consensus.add_mut_info_cols(processed_ccs,\n",
    "                                                       mutation_col='gene_mutations_with_del',\n",
    "                                                       n_indel_col='n_indels')\n",
    "\n",
    "processed_ccs = processed_ccs.assign(has_indel=lambda x: x['n_indels'] > 0)\n",
    "\n",
    "processed_ccs.head(n=12)"
   ]
  },
  {
   "cell_type": "markdown",
   "metadata": {},
   "source": [
    "Plot how many sequences have indels:"
   ]
  },
  {
   "cell_type": "code",
   "execution_count": 34,
   "metadata": {},
   "outputs": [],
   "source": [
    "_ = (\n",
    " ggplot(processed_ccs,\n",
    "        aes('retained', fill='has_indel')) +\n",
    " geom_bar(position='dodge') +\n",
    " geom_text(aes(label='..count..'), stat='count', va='bottom', size=7,\n",
    "           position=position_dodge(width=0.9), format_string='{:.2g}') +\n",
    " theme(figure_size=(2.5 * nlibs, 3),\n",
    "       panel_grid_major_x=element_blank(),\n",
    "       ) +\n",
    " ylab('number of CCSs') +\n",
    " scale_fill_manual(values=CBPALETTE[1:]) +\n",
    " facet_wrap('~ library', nrow=1)\n",
    " ).draw()"
   ]
  },
  {
   "cell_type": "markdown",
   "metadata": {},
   "source": [
    "Now get the empirical accuracy for each of the CCS groups mentioned above:"
   ]
  },
  {
   "cell_type": "code",
   "execution_count": 35,
   "metadata": {},
   "outputs": [],
   "source": [
    "high_acc = config['max_error_rate'] / 10\n",
    "empirical_acc = []\n",
    "\n",
    "for desc, query_str in [\n",
    "        ('retained', 'retained'),\n",
    "        ('retained, no indel', 'retained and not has_indel'),\n",
    "        ('10X accuracy',\n",
    "         f\"(gene_error < {high_acc}) and (barcode_error < {high_acc})\"),\n",
    "        ('10X accuracy, no indel',\n",
    "         f\"(gene_error < {high_acc}) and (barcode_error < {high_acc}) and not has_indel\")\n",
    "        ]:\n",
    "    # get just CCSs in that category\n",
    "    df = processed_ccs.query(query_str)\n",
    "    \n",
    "    # compute empirical accuracy\n",
    "    empirical_acc.append(\n",
    "        alignparse.consensus.empirical_accuracy(df,\n",
    "                                                mutation_col='gene_mutations')\n",
    "        .assign(description=desc)\n",
    "        .merge(df\n",
    "               .groupby('library')\n",
    "               .size()\n",
    "               .rename('number_CCSs')\n",
    "               .reset_index()\n",
    "               )\n",
    "        )\n",
    "\n",
    "# make description categorical to preserve order, and annotate as \"actual\"\n",
    "# the category (\"retained, no indel\") that we will use for building variants.\n",
    "empirical_acc = (\n",
    "    pd.concat(empirical_acc, ignore_index=True, sort=False)\n",
    "    .assign(description=lambda x: pd.Categorical(x['description'],\n",
    "                                                 x['description'].unique(),\n",
    "                                                 ordered=True),\n",
    "            actual=lambda x: numpy.where(x['description'] == 'retained, no indel',\n",
    "                                         True, False),\n",
    "            )\n",
    "    )"
   ]
  },
  {
   "cell_type": "markdown",
   "metadata": {},
   "source": [
    "Display table of the empirical accuracies:"
   ]
  },
  {
   "cell_type": "code",
   "execution_count": 36,
   "metadata": {},
   "outputs": [
    {
     "data": {
      "text/html": [
       "<table border=\"1\" class=\"dataframe\">\n",
       "  <thead>\n",
       "    <tr style=\"text-align: right;\">\n",
       "      <th>library</th>\n",
       "      <th>accuracy</th>\n",
       "      <th>description</th>\n",
       "      <th>number_CCSs</th>\n",
       "      <th>actual</th>\n",
       "    </tr>\n",
       "  </thead>\n",
       "  <tbody>\n",
       "    <tr>\n",
       "      <td>pool1</td>\n",
       "      <td>0.983664</td>\n",
       "      <td>retained</td>\n",
       "      <td>735167</td>\n",
       "      <td>False</td>\n",
       "    </tr>\n",
       "    <tr>\n",
       "      <td>pool2</td>\n",
       "      <td>0.981293</td>\n",
       "      <td>retained</td>\n",
       "      <td>859787</td>\n",
       "      <td>False</td>\n",
       "    </tr>\n",
       "    <tr>\n",
       "      <td>pool1</td>\n",
       "      <td>0.995172</td>\n",
       "      <td>retained, no indel</td>\n",
       "      <td>721447</td>\n",
       "      <td>True</td>\n",
       "    </tr>\n",
       "    <tr>\n",
       "      <td>pool2</td>\n",
       "      <td>0.993308</td>\n",
       "      <td>retained, no indel</td>\n",
       "      <td>843442</td>\n",
       "      <td>True</td>\n",
       "    </tr>\n",
       "    <tr>\n",
       "      <td>pool1</td>\n",
       "      <td>0.986812</td>\n",
       "      <td>10X accuracy</td>\n",
       "      <td>699347</td>\n",
       "      <td>False</td>\n",
       "    </tr>\n",
       "    <tr>\n",
       "      <td>pool2</td>\n",
       "      <td>0.984741</td>\n",
       "      <td>10X accuracy</td>\n",
       "      <td>817673</td>\n",
       "      <td>False</td>\n",
       "    </tr>\n",
       "    <tr>\n",
       "      <td>pool1</td>\n",
       "      <td>0.995256</td>\n",
       "      <td>10X accuracy, no indel</td>\n",
       "      <td>688501</td>\n",
       "      <td>False</td>\n",
       "    </tr>\n",
       "    <tr>\n",
       "      <td>pool2</td>\n",
       "      <td>0.993523</td>\n",
       "      <td>10X accuracy, no indel</td>\n",
       "      <td>804794</td>\n",
       "      <td>False</td>\n",
       "    </tr>\n",
       "  </tbody>\n",
       "</table>"
      ],
      "text/plain": [
       "<IPython.core.display.HTML object>"
      ]
     },
     "metadata": {},
     "output_type": "display_data"
    }
   ],
   "source": [
    "display(HTML(empirical_acc.to_html(index=False)))"
   ]
  },
  {
   "cell_type": "markdown",
   "metadata": {},
   "source": [
    "Plot the empirical accuracies, using a different color to show the category that we will actually use:"
   ]
  },
  {
   "cell_type": "code",
   "execution_count": 37,
   "metadata": {},
   "outputs": [
    {
     "name": "stdout",
     "output_type": "stream",
     "text": [
      "Saving plot to results/figures/empirical_CCS_accuracy.pdf\n"
     ]
    }
   ],
   "source": [
    "p = (\n",
    "    ggplot(empirical_acc,\n",
    "           aes('description', 'accuracy', color='actual', label='accuracy')\n",
    "           ) +\n",
    "    geom_point(size=3) +\n",
    "    geom_text(va='bottom', size=9, format_string='{:.3g}', nudge_y=0.003) +\n",
    "    facet_wrap('~ library', ncol=8) +\n",
    "    theme(figure_size=(1.75 * nlibs, 2.25),\n",
    "          axis_text_x=element_text(angle=90),\n",
    "          panel_grid_major_x=element_blank(),\n",
    "          ) +\n",
    "    xlab('') +\n",
    "    scale_y_continuous(name='empirical accuracy', limits=(0.2, 1.005)) +\n",
    "    scale_color_manual(values=CBPALETTE, guide=False)\n",
    "    )\n",
    "\n",
    "plotfile = os.path.join(config['figs_dir'], 'empirical_CCS_accuracy.pdf')\n",
    "print(f\"Saving plot to {plotfile}\")\n",
    "_ = p.draw()"
   ]
  },
  {
   "cell_type": "markdown",
   "metadata": {},
   "source": [
    "The above analysis shows that if we exclude sequences with indels (which we plan to do among our consensus sequences), then the accuracy of each CCS is around 99%. \n",
    "We do **not** get notably higher empirical accuracy by imposing a more stringent filter from the PacBio `ccs` program, indicating that the major sources of error are due to processes that are not modeled in this program's accuracy filter (perhaps strand exchange or barcode sharing).\n",
    "\n",
    "Note that this empirical accuracy is for a **single** CCS.\n",
    "When we build the consensus sequences for each barcode below, we will take the consensus of CCSs within a barcode.\n",
    "So for barcodes with multiple CCSs, the actual accuracy of the consensus sequences will be higher than the empirical accuracy above due to capturing information from multiple CCSs."
   ]
  },
  {
   "cell_type": "markdown",
   "metadata": {},
   "source": [
    "### Consensus sequences for barcodes\n",
    "We call the consensus sequence for each barcode using the simple method implemented in [alignparse.consensus.simple_mutconsensus](https://jbloomlab.github.io/alignparse/alignparse.consensus.html?highlight=simple_mutconsensus#alignparse.consensus.simple_mutconsensus).\n",
    "The documentation for that function explains the method in detail, but basically it works like this:\n",
    " 1. When there is just one CCS per barcode, the consensus is just that sequence.\n",
    " 2. When there are multiple CCSs per barcode, they are used to build a consensus--however, the entire barcode is discarded if there are many differences between CCSs with the barcode, or high-frequency non-consensus mutations. The reason that barcodes are discarded in such cases as many differences between CCSs or high-frequency non-consensus mutations suggest errors such as barcode collisions or strand exchange.\n",
    " \n",
    "First, call the consensus for each barcode including **all** retained sequences, even those with undesirable indels."
   ]
  },
  {
   "cell_type": "code",
   "execution_count": 38,
   "metadata": {},
   "outputs": [],
   "source": [
    "consensus, dropped = alignparse.consensus.simple_mutconsensus(\n",
    "                        processed_ccs.query('retained'),\n",
    "                        group_cols=('library', 'barcode', 'target'),\n",
    "                        mutation_col='gene_mutations_with_del',\n",
    "                        )"
   ]
  },
  {
   "cell_type": "markdown",
   "metadata": {},
   "source": [
    "Here are the first few lines of the data frame of consensus sequences for each barcode.\n",
    "In addition to giving the library, barcode, target, and mutations, it also has a column indicating how many CCSs support the variant call:"
   ]
  },
  {
   "cell_type": "code",
   "execution_count": 39,
   "metadata": {},
   "outputs": [
    {
     "data": {
      "text/html": [
       "<table border=\"1\" class=\"dataframe\">\n",
       "  <thead>\n",
       "    <tr style=\"text-align: right;\">\n",
       "      <th>library</th>\n",
       "      <th>barcode</th>\n",
       "      <th>target</th>\n",
       "      <th>gene_mutations_with_del</th>\n",
       "      <th>variant_call_support</th>\n",
       "    </tr>\n",
       "  </thead>\n",
       "  <tbody>\n",
       "    <tr>\n",
       "      <td>pool1</td>\n",
       "      <td>AAAAAAAAAAGAGTCA</td>\n",
       "      <td>BQ11</td>\n",
       "      <td>G256A G257A G258A</td>\n",
       "      <td>2</td>\n",
       "    </tr>\n",
       "    <tr>\n",
       "      <td>pool1</td>\n",
       "      <td>AAAAAAAAAATGTACA</td>\n",
       "      <td>BQ11</td>\n",
       "      <td>T14C</td>\n",
       "      <td>4</td>\n",
       "    </tr>\n",
       "    <tr>\n",
       "      <td>pool1</td>\n",
       "      <td>AAAAAAAAACAACTCT</td>\n",
       "      <td>BQ11</td>\n",
       "      <td>A335T</td>\n",
       "      <td>1</td>\n",
       "    </tr>\n",
       "    <tr>\n",
       "      <td>pool1</td>\n",
       "      <td>AAAAAAAAACAGTAGT</td>\n",
       "      <td>BQ11</td>\n",
       "      <td>C397G</td>\n",
       "      <td>2</td>\n",
       "    </tr>\n",
       "    <tr>\n",
       "      <td>pool1</td>\n",
       "      <td>AAAAAAAAACTCCGTG</td>\n",
       "      <td>BQ11</td>\n",
       "      <td>A319G C321T</td>\n",
       "      <td>4</td>\n",
       "    </tr>\n",
       "  </tbody>\n",
       "</table>"
      ],
      "text/plain": [
       "<IPython.core.display.HTML object>"
      ]
     },
     "metadata": {},
     "output_type": "display_data"
    }
   ],
   "source": [
    "display(HTML(consensus.head().to_html(index=False)))"
   ]
  },
  {
   "cell_type": "markdown",
   "metadata": {},
   "source": [
    "Since we retain variants with substitutions and single-codon deletions, add information about substitution mutations, and for troubleshooting, number of indels:"
   ]
  },
  {
   "cell_type": "code",
   "execution_count": 40,
   "metadata": {},
   "outputs": [
    {
     "data": {
      "text/html": [
       "<table border=\"1\" class=\"dataframe\">\n",
       "  <thead>\n",
       "    <tr style=\"text-align: right;\">\n",
       "      <th>library</th>\n",
       "      <th>barcode</th>\n",
       "      <th>target</th>\n",
       "      <th>gene_mutations_with_del</th>\n",
       "      <th>variant_call_support</th>\n",
       "      <th>substitutions</th>\n",
       "      <th>deletions</th>\n",
       "      <th>insertions</th>\n",
       "      <th>number_of_indels</th>\n",
       "    </tr>\n",
       "  </thead>\n",
       "  <tbody>\n",
       "    <tr>\n",
       "      <td>pool1</td>\n",
       "      <td>AAAAAAAAAAGAGTCA</td>\n",
       "      <td>BQ11</td>\n",
       "      <td>G256A G257A G258A</td>\n",
       "      <td>2</td>\n",
       "      <td>G256A G257A G258A</td>\n",
       "      <td></td>\n",
       "      <td></td>\n",
       "      <td>0</td>\n",
       "    </tr>\n",
       "    <tr>\n",
       "      <td>pool1</td>\n",
       "      <td>AAAAAAAAAATGTACA</td>\n",
       "      <td>BQ11</td>\n",
       "      <td>T14C</td>\n",
       "      <td>4</td>\n",
       "      <td>T14C</td>\n",
       "      <td></td>\n",
       "      <td></td>\n",
       "      <td>0</td>\n",
       "    </tr>\n",
       "    <tr>\n",
       "      <td>pool1</td>\n",
       "      <td>AAAAAAAAACAACTCT</td>\n",
       "      <td>BQ11</td>\n",
       "      <td>A335T</td>\n",
       "      <td>1</td>\n",
       "      <td>A335T</td>\n",
       "      <td></td>\n",
       "      <td></td>\n",
       "      <td>0</td>\n",
       "    </tr>\n",
       "    <tr>\n",
       "      <td>pool1</td>\n",
       "      <td>AAAAAAAAACAGTAGT</td>\n",
       "      <td>BQ11</td>\n",
       "      <td>C397G</td>\n",
       "      <td>2</td>\n",
       "      <td>C397G</td>\n",
       "      <td></td>\n",
       "      <td></td>\n",
       "      <td>0</td>\n",
       "    </tr>\n",
       "    <tr>\n",
       "      <td>pool1</td>\n",
       "      <td>AAAAAAAAACTCCGTG</td>\n",
       "      <td>BQ11</td>\n",
       "      <td>A319G C321T</td>\n",
       "      <td>4</td>\n",
       "      <td>A319G C321T</td>\n",
       "      <td></td>\n",
       "      <td></td>\n",
       "      <td>0</td>\n",
       "    </tr>\n",
       "  </tbody>\n",
       "</table>"
      ],
      "text/plain": [
       "<IPython.core.display.HTML object>"
      ]
     },
     "metadata": {},
     "output_type": "display_data"
    }
   ],
   "source": [
    "consensus = alignparse.consensus.add_mut_info_cols(\n",
    "                    consensus,\n",
    "                    mutation_col='gene_mutations_with_del',\n",
    "                    sub_str_col='substitutions',\n",
    "                    del_str_col='deletions',\n",
    "                    ins_str_col='insertions',\n",
    "                    n_indel_col='number_of_indels',\n",
    "                    overwrite_cols=True)\n",
    "\n",
    "display(HTML(consensus.head().to_html(index=False)))"
   ]
  },
  {
   "cell_type": "markdown",
   "metadata": {},
   "source": [
    "Plot distribution of number of CCSs supporting each variant call (consensus), indicating whether or not there is an indel:"
   ]
  },
  {
   "cell_type": "code",
   "execution_count": 41,
   "metadata": {},
   "outputs": [],
   "source": [
    "max_variant_call_support = 6  # group variants with >= this much support\n",
    "\n",
    "_ = (\n",
    " ggplot(consensus\n",
    "        .assign(variant_call_support=lambda x: numpy.clip(x['variant_call_support'],\n",
    "                                                          None,\n",
    "                                                          max_variant_call_support),\n",
    "                indel_state=lambda x: numpy.where(x['number_of_indels'] > 0,\n",
    "                                                  'has indel', 'no indel')\n",
    "                ),\n",
    "        aes('variant_call_support')) +\n",
    " geom_bar() +\n",
    " ylab('number of variants') +\n",
    " facet_grid('indel_state ~ library') +\n",
    " theme(figure_size=(1.75 * nlibs, 3.5),\n",
    "       panel_grid_major_x=element_blank(),\n",
    "       ) \n",
    " ).draw()"
   ]
  },
  {
   "cell_type": "markdown",
   "metadata": {},
   "source": [
    "We see that most variant consensus sequences do **not** have indels, especially if we limit to the more \"accurate\" ones that have multiple CCSs supporting them.\n",
    "\n",
    "We will ignore all consensus sequences with indels in the variant-barcode lookup table. \n",
    "We do this for two reasons:\n",
    " 1. When there is just one CCS supporting a consensus, it is less likely to be accurate as indels are the main mode of PacBio error.\n",
    " 2. For the purposes of our studies, we are interested in point mutations rather than indels anyway.\n",
    " \n",
    "Here are number of valid consensus sequence (no indels) for each library and target:"
   ]
  },
  {
   "cell_type": "code",
   "execution_count": 42,
   "metadata": {},
   "outputs": [
    {
     "data": {
      "text/html": [
       "<table border=\"1\" class=\"dataframe\">\n",
       "  <thead>\n",
       "    <tr style=\"text-align: right;\">\n",
       "      <th>library</th>\n",
       "      <th>target</th>\n",
       "      <th>consensus sequences</th>\n",
       "    </tr>\n",
       "  </thead>\n",
       "  <tbody>\n",
       "    <tr>\n",
       "      <td>pool1</td>\n",
       "      <td>BQ11</td>\n",
       "      <td>101917</td>\n",
       "    </tr>\n",
       "    <tr>\n",
       "      <td>pool2</td>\n",
       "      <td>BQ11</td>\n",
       "      <td>107952</td>\n",
       "    </tr>\n",
       "  </tbody>\n",
       "</table>"
      ],
      "text/plain": [
       "<IPython.core.display.HTML object>"
      ]
     },
     "metadata": {},
     "output_type": "display_data"
    }
   ],
   "source": [
    "consensus = consensus.query('number_of_indels < 1')\n",
    "\n",
    "lib_target_counts = (\n",
    "    consensus\n",
    "    .groupby(['library', 'target'])\n",
    "    .size()\n",
    "    .rename('consensus sequences')\n",
    "    .reset_index()\n",
    "    )\n",
    "\n",
    "display(HTML(lib_target_counts.to_html(index=False)))\n",
    "\n",
    "p = (ggplot(lib_target_counts.assign(xlabel=lambda x: x['target'] + ', ' + x['library']),\n",
    "            aes('xlabel', 'consensus sequences')) +\n",
    "     geom_point(size=3) +\n",
    "     theme(figure_size=(0.5 * nlibs * ntargets, 1.75),\n",
    "           axis_text_x=element_text(angle=90)) +\n",
    "     xlab('') +\n",
    "     scale_y_log10()\n",
    "     )\n",
    "\n",
    "_ = p.draw()"
   ]
  },
  {
   "cell_type": "markdown",
   "metadata": {},
   "source": [
    "Below we write the retained consensus sequences to a CSV file that links the nucleotide mutations to the barcodes.\n",
    "(The next section analyzes this variant table in detail, and provides have more precise information on the number of variants and relevant statistics):"
   ]
  },
  {
   "cell_type": "code",
   "execution_count": 43,
   "metadata": {},
   "outputs": [
    {
     "name": "stdout",
     "output_type": "stream",
     "text": [
      "Writing nucleotide variants to results/variants/nucleotide_variant_table_BQ11.csv\n",
      "Here are the first few lines of this file:\n"
     ]
    },
    {
     "data": {
      "text/html": [
       "<table border=\"1\" class=\"dataframe\">\n",
       "  <thead>\n",
       "    <tr style=\"text-align: right;\">\n",
       "      <th>target</th>\n",
       "      <th>library</th>\n",
       "      <th>barcode</th>\n",
       "      <th>gene_mutations_with_del</th>\n",
       "      <th>substitutions</th>\n",
       "      <th>insertions</th>\n",
       "      <th>deletions</th>\n",
       "      <th>variant_call_support</th>\n",
       "    </tr>\n",
       "  </thead>\n",
       "  <tbody>\n",
       "    <tr>\n",
       "      <td>BQ11</td>\n",
       "      <td>pool1</td>\n",
       "      <td>AAAAAAAAAAGAGTCA</td>\n",
       "      <td>G256A G257A G258A</td>\n",
       "      <td>G256A G257A G258A</td>\n",
       "      <td></td>\n",
       "      <td></td>\n",
       "      <td>2</td>\n",
       "    </tr>\n",
       "    <tr>\n",
       "      <td>BQ11</td>\n",
       "      <td>pool1</td>\n",
       "      <td>AAAAAAAAAATGTACA</td>\n",
       "      <td>T14C</td>\n",
       "      <td>T14C</td>\n",
       "      <td></td>\n",
       "      <td></td>\n",
       "      <td>4</td>\n",
       "    </tr>\n",
       "    <tr>\n",
       "      <td>BQ11</td>\n",
       "      <td>pool1</td>\n",
       "      <td>AAAAAAAAACAACTCT</td>\n",
       "      <td>A335T</td>\n",
       "      <td>A335T</td>\n",
       "      <td></td>\n",
       "      <td></td>\n",
       "      <td>1</td>\n",
       "    </tr>\n",
       "    <tr>\n",
       "      <td>BQ11</td>\n",
       "      <td>pool1</td>\n",
       "      <td>AAAAAAAAACAGTAGT</td>\n",
       "      <td>C397G</td>\n",
       "      <td>C397G</td>\n",
       "      <td></td>\n",
       "      <td></td>\n",
       "      <td>2</td>\n",
       "    </tr>\n",
       "    <tr>\n",
       "      <td>BQ11</td>\n",
       "      <td>pool1</td>\n",
       "      <td>AAAAAAAAACTCCGTG</td>\n",
       "      <td>A319G C321T</td>\n",
       "      <td>A319G C321T</td>\n",
       "      <td></td>\n",
       "      <td></td>\n",
       "      <td>4</td>\n",
       "    </tr>\n",
       "  </tbody>\n",
       "</table>"
      ],
      "text/plain": [
       "<IPython.core.display.HTML object>"
      ]
     },
     "metadata": {},
     "output_type": "display_data"
    }
   ],
   "source": [
    "print(f\"Writing nucleotide variants to {config['nt_variant_table_file' + '_' + background]}\")\n",
    "      \n",
    "(consensus\n",
    " [['target', 'library', 'barcode', 'gene_mutations_with_del', 'substitutions', 'insertions','deletions', 'variant_call_support']]\n",
    " .to_csv(config['nt_variant_table_file' + '_' + background], index=False)\n",
    " )\n",
    "      \n",
    "print('Here are the first few lines of this file:')\n",
    "display(HTML(\n",
    "    pd.read_csv(config['nt_variant_table_file' + '_' + background], na_filter=None)\n",
    "    .head()\n",
    "    .to_html(index=False)\n",
    "    ))"
   ]
  },
  {
   "cell_type": "markdown",
   "metadata": {},
   "source": [
    "What happened to the barcodes that we \"dropped\" because we could not construct a reliable consensus?\n",
    "The `dropped` data frame from [alignparse.consensus.simple_mutconsensus](https://jbloomlab.github.io/alignparse/alignparse.consensus.html?highlight=simple_mutconsensus#alignparse.consensus.simple_mutconsensus) has this information:"
   ]
  },
  {
   "cell_type": "code",
   "execution_count": 44,
   "metadata": {},
   "outputs": [
    {
     "data": {
      "text/html": [
       "<table border=\"1\" class=\"dataframe\">\n",
       "  <thead>\n",
       "    <tr style=\"text-align: right;\">\n",
       "      <th>library</th>\n",
       "      <th>barcode</th>\n",
       "      <th>target</th>\n",
       "      <th>drop_reason</th>\n",
       "      <th>nseqs</th>\n",
       "    </tr>\n",
       "  </thead>\n",
       "  <tbody>\n",
       "    <tr>\n",
       "      <td>pool1</td>\n",
       "      <td>AAAAAAAAAAATGGCC</td>\n",
       "      <td>BQ11</td>\n",
       "      <td>subs diff too large</td>\n",
       "      <td>4</td>\n",
       "    </tr>\n",
       "    <tr>\n",
       "      <td>pool1</td>\n",
       "      <td>AAAAAAACTTTGTTGG</td>\n",
       "      <td>BQ11</td>\n",
       "      <td>subs diff too large</td>\n",
       "      <td>2</td>\n",
       "    </tr>\n",
       "    <tr>\n",
       "      <td>pool1</td>\n",
       "      <td>AAAAAAAGTGATTATA</td>\n",
       "      <td>BQ11</td>\n",
       "      <td>minor subs too frequent</td>\n",
       "      <td>13</td>\n",
       "    </tr>\n",
       "    <tr>\n",
       "      <td>pool1</td>\n",
       "      <td>AAAAAAATCGCATTTT</td>\n",
       "      <td>BQ11</td>\n",
       "      <td>subs diff too large</td>\n",
       "      <td>15</td>\n",
       "    </tr>\n",
       "    <tr>\n",
       "      <td>pool1</td>\n",
       "      <td>AAAAAAGATCGTATAC</td>\n",
       "      <td>BQ11</td>\n",
       "      <td>subs diff too large</td>\n",
       "      <td>2</td>\n",
       "    </tr>\n",
       "  </tbody>\n",
       "</table>"
      ],
      "text/plain": [
       "<IPython.core.display.HTML object>"
      ]
     },
     "metadata": {},
     "output_type": "display_data"
    }
   ],
   "source": [
    "display(HTML(dropped.head().to_html(index=False)))"
   ]
  },
  {
   "cell_type": "markdown",
   "metadata": {},
   "source": [
    "Summarize the information in this data frame on dropped barcodes with the plot below.\n",
    "This plot shows several things.\n",
    "First, we see that the total number of barcodes dropped is modest (just a few thousand per library) relative to the total number of barcodes per library (seen above to be on the order of hundreds of thousands).\n",
    "Second, the main reason that barcodes are dropped is that there are CCSs within the same barcode with suspiciously large numbers of mutations relative to the consensus---which we use as a filter to discard the entire barcode as it could indicate strand exchange or some other issue.\n",
    "In any case, the modest number of dropped barcodes indicates that there probably isn't much of a need to worry: "
   ]
  },
  {
   "cell_type": "code",
   "execution_count": 45,
   "metadata": {},
   "outputs": [],
   "source": [
    "max_nseqs = 8  # plot together all barcodes with >= this many sequences\n",
    "\n",
    "_ = (\n",
    " ggplot(\n",
    "    dropped.assign(nseqs=lambda x: numpy.clip(x['nseqs'], None, max_nseqs)),\n",
    "    aes('nseqs')) + \n",
    " geom_bar() + \n",
    " scale_x_continuous(limits=(1, None)) +\n",
    " xlab('number of sequences for barcode') +\n",
    " ylab('number of barcodes') +\n",
    " facet_grid('library ~ drop_reason') +\n",
    " theme(figure_size=(10, 1.5 * nlibs),\n",
    "       panel_grid_major_x=element_blank(),\n",
    "       )\n",
    " ).draw()"
   ]
  },
  {
   "cell_type": "markdown",
   "metadata": {},
   "source": [
    "## Create barcode-variant table\n",
    "We now create a [CodonVariantTable](https://jbloomlab.github.io/dms_variants/dms_variants.codonvarianttable.html#dms_variants.codonvarianttable.CodonVariantTable) that stores and processes all the information about the variant consensus sequences.\n",
    "Below we initialize such a table, and then analyze information about its composition. **Note, I believe this table eliminates our indel mutants, so we probably need to go back to the nt variants table to parse indels ourselves. Nonetheless, we'll keep this here so we can see what our (amino acid) mutant coverage looks like**\n",
    "\n",
    "### Initialize codon variant table\n",
    "In order to initialize the codon variant table, we need two pieces of information:\n",
    "  1. The wildtype gene sequence.\n",
    "  2. The list of nucleotide mutations for each variant as determined in the consensus calling above.\n",
    "\n",
    "Read \"wildtype\" gene sequence to which we made the alignments (in order to do this, initialize an `alignparse.Targets` and get the gene sequence from it):"
   ]
  },
  {
   "cell_type": "code",
   "execution_count": 46,
   "metadata": {},
   "outputs": [
    {
     "name": "stdout",
     "output_type": "stream",
     "text": [
      "Read gene of 603 nts for BQ11 from data/PacBio_amplicon_BQ11.gb\n"
     ]
    }
   ],
   "source": [
    "targets = alignparse.targets.Targets(seqsfile=config['amplicons_' + background],\n",
    "                                     feature_parse_specs=config['feature_parse_specs_' + background])\n",
    "geneseq = targets.get_target(background).get_feature('gene').seq\n",
    "\n",
    "print(f\"Read gene of {len(geneseq)} nts for {background} from {config['amplicons_' + background]}\")"
   ]
  },
  {
   "cell_type": "markdown",
   "metadata": {},
   "source": [
    "Now initialize the codon variant table using this wildtype sequence and our list of nucleotide mutations for each variant:"
   ]
  },
  {
   "cell_type": "code",
   "execution_count": 47,
   "metadata": {},
   "outputs": [
    {
     "data": {
      "text/html": [
       "<div>\n",
       "<style scoped>\n",
       "    .dataframe tbody tr th:only-of-type {\n",
       "        vertical-align: middle;\n",
       "    }\n",
       "\n",
       "    .dataframe tbody tr th {\n",
       "        vertical-align: top;\n",
       "    }\n",
       "\n",
       "    .dataframe thead th {\n",
       "        text-align: right;\n",
       "    }\n",
       "</style>\n",
       "<table border=\"1\" class=\"dataframe\">\n",
       "  <thead>\n",
       "    <tr style=\"text-align: right;\">\n",
       "      <th></th>\n",
       "      <th>target</th>\n",
       "      <th>library</th>\n",
       "      <th>barcode</th>\n",
       "      <th>variant_call_support</th>\n",
       "      <th>codon_substitutions</th>\n",
       "      <th>aa_substitutions</th>\n",
       "      <th>n_codon_substitutions</th>\n",
       "      <th>n_aa_substitutions</th>\n",
       "    </tr>\n",
       "  </thead>\n",
       "  <tbody>\n",
       "    <tr>\n",
       "      <th>0</th>\n",
       "      <td>BQ11</td>\n",
       "      <td>pool1</td>\n",
       "      <td>AAAAAAAAAAGAGTCA</td>\n",
       "      <td>2</td>\n",
       "      <td>GGG86AAA</td>\n",
       "      <td>G86K</td>\n",
       "      <td>1</td>\n",
       "      <td>1</td>\n",
       "    </tr>\n",
       "    <tr>\n",
       "      <th>1</th>\n",
       "      <td>BQ11</td>\n",
       "      <td>pool1</td>\n",
       "      <td>AAAAAAAAAATGTACA</td>\n",
       "      <td>4</td>\n",
       "      <td>CTA5CCA</td>\n",
       "      <td>L5P</td>\n",
       "      <td>1</td>\n",
       "      <td>1</td>\n",
       "    </tr>\n",
       "    <tr>\n",
       "      <th>2</th>\n",
       "      <td>BQ11</td>\n",
       "      <td>pool1</td>\n",
       "      <td>AAAAAAAAACAACTCT</td>\n",
       "      <td>1</td>\n",
       "      <td>GAT112GTT</td>\n",
       "      <td>D112V</td>\n",
       "      <td>1</td>\n",
       "      <td>1</td>\n",
       "    </tr>\n",
       "    <tr>\n",
       "      <th>3</th>\n",
       "      <td>BQ11</td>\n",
       "      <td>pool1</td>\n",
       "      <td>AAAAAAAAACAGTAGT</td>\n",
       "      <td>2</td>\n",
       "      <td>CCT133GCT</td>\n",
       "      <td>P133A</td>\n",
       "      <td>1</td>\n",
       "      <td>1</td>\n",
       "    </tr>\n",
       "    <tr>\n",
       "      <th>4</th>\n",
       "      <td>BQ11</td>\n",
       "      <td>pool1</td>\n",
       "      <td>AAAAAAAAACTCCGTG</td>\n",
       "      <td>4</td>\n",
       "      <td>AAC107GAT</td>\n",
       "      <td>N107D</td>\n",
       "      <td>1</td>\n",
       "      <td>1</td>\n",
       "    </tr>\n",
       "    <tr>\n",
       "      <th>5</th>\n",
       "      <td>BQ11</td>\n",
       "      <td>pool1</td>\n",
       "      <td>AAAAAAAAAGATCTCT</td>\n",
       "      <td>3</td>\n",
       "      <td>GCT89GAT</td>\n",
       "      <td>A89D</td>\n",
       "      <td>1</td>\n",
       "      <td>1</td>\n",
       "    </tr>\n",
       "    <tr>\n",
       "      <th>6</th>\n",
       "      <td>BQ11</td>\n",
       "      <td>pool1</td>\n",
       "      <td>AAAAAAAAAGGGTGGA</td>\n",
       "      <td>1</td>\n",
       "      <td>AGC53TTT</td>\n",
       "      <td>S53F</td>\n",
       "      <td>1</td>\n",
       "      <td>1</td>\n",
       "    </tr>\n",
       "    <tr>\n",
       "      <th>7</th>\n",
       "      <td>BQ11</td>\n",
       "      <td>pool1</td>\n",
       "      <td>AAAAAAAAAGTTGAAA</td>\n",
       "      <td>4</td>\n",
       "      <td>TGT31TTG</td>\n",
       "      <td>C31L</td>\n",
       "      <td>1</td>\n",
       "      <td>1</td>\n",
       "    </tr>\n",
       "    <tr>\n",
       "      <th>8</th>\n",
       "      <td>BQ11</td>\n",
       "      <td>pool1</td>\n",
       "      <td>AAAAAAAAATATGAGG</td>\n",
       "      <td>2</td>\n",
       "      <td>AAC92GCT</td>\n",
       "      <td>N92A</td>\n",
       "      <td>1</td>\n",
       "      <td>1</td>\n",
       "    </tr>\n",
       "    <tr>\n",
       "      <th>9</th>\n",
       "      <td>BQ11</td>\n",
       "      <td>pool1</td>\n",
       "      <td>AAAAAAAAATCCAGAG</td>\n",
       "      <td>1</td>\n",
       "      <td>TTC45CAT</td>\n",
       "      <td>F45H</td>\n",
       "      <td>1</td>\n",
       "      <td>1</td>\n",
       "    </tr>\n",
       "    <tr>\n",
       "      <th>10</th>\n",
       "      <td>BQ11</td>\n",
       "      <td>pool1</td>\n",
       "      <td>AAAAAAAAATGTTCCC</td>\n",
       "      <td>2</td>\n",
       "      <td>AAC107GAA</td>\n",
       "      <td>N107E</td>\n",
       "      <td>1</td>\n",
       "      <td>1</td>\n",
       "    </tr>\n",
       "    <tr>\n",
       "      <th>11</th>\n",
       "      <td>BQ11</td>\n",
       "      <td>pool1</td>\n",
       "      <td>AAAAAAAAATGTTTAA</td>\n",
       "      <td>7</td>\n",
       "      <td>GAG76CAT</td>\n",
       "      <td>E76H</td>\n",
       "      <td>1</td>\n",
       "      <td>1</td>\n",
       "    </tr>\n",
       "  </tbody>\n",
       "</table>\n",
       "</div>"
      ],
      "text/plain": [
       "   target library           barcode  variant_call_support codon_substitutions  \\\n",
       "0    BQ11   pool1  AAAAAAAAAAGAGTCA                     2            GGG86AAA   \n",
       "1    BQ11   pool1  AAAAAAAAAATGTACA                     4             CTA5CCA   \n",
       "2    BQ11   pool1  AAAAAAAAACAACTCT                     1           GAT112GTT   \n",
       "3    BQ11   pool1  AAAAAAAAACAGTAGT                     2           CCT133GCT   \n",
       "4    BQ11   pool1  AAAAAAAAACTCCGTG                     4           AAC107GAT   \n",
       "5    BQ11   pool1  AAAAAAAAAGATCTCT                     3            GCT89GAT   \n",
       "6    BQ11   pool1  AAAAAAAAAGGGTGGA                     1            AGC53TTT   \n",
       "7    BQ11   pool1  AAAAAAAAAGTTGAAA                     4            TGT31TTG   \n",
       "8    BQ11   pool1  AAAAAAAAATATGAGG                     2            AAC92GCT   \n",
       "9    BQ11   pool1  AAAAAAAAATCCAGAG                     1            TTC45CAT   \n",
       "10   BQ11   pool1  AAAAAAAAATGTTCCC                     2           AAC107GAA   \n",
       "11   BQ11   pool1  AAAAAAAAATGTTTAA                     7            GAG76CAT   \n",
       "\n",
       "   aa_substitutions  n_codon_substitutions  n_aa_substitutions  \n",
       "0              G86K                      1                   1  \n",
       "1               L5P                      1                   1  \n",
       "2             D112V                      1                   1  \n",
       "3             P133A                      1                   1  \n",
       "4             N107D                      1                   1  \n",
       "5              A89D                      1                   1  \n",
       "6              S53F                      1                   1  \n",
       "7              C31L                      1                   1  \n",
       "8              N92A                      1                   1  \n",
       "9              F45H                      1                   1  \n",
       "10            N107E                      1                   1  \n",
       "11             E76H                      1                   1  "
      ]
     },
     "execution_count": 47,
     "metadata": {},
     "output_type": "execute_result"
    }
   ],
   "source": [
    "variants = dms_variants.codonvarianttable.CodonVariantTable(\n",
    "                barcode_variant_file=config['nt_variant_table_file_' + background],\n",
    "                geneseq=geneseq,\n",
    "                primary_target=background,\n",
    "                allowgaps=True,\n",
    "                )\n",
    "\n",
    "variants.barcode_variant_df.head(n=12)"
   ]
  },
  {
   "cell_type": "markdown",
   "metadata": {},
   "source": [
    "### Basic stats on variants\n",
    "We now will analyze the variants.\n",
    "In this call and in the plots below, we set `samples=None` as we aren't looking at variant counts in specific samples, but are simply looking at properties of the variants in the table.\n",
    "\n",
    "Here are the number of variants for each target:"
   ]
  },
  {
   "cell_type": "code",
   "execution_count": 48,
   "metadata": {},
   "outputs": [
    {
     "data": {
      "text/html": [
       "<table border=\"1\" class=\"dataframe\">\n",
       "  <thead>\n",
       "    <tr style=\"text-align: right;\">\n",
       "      <th>library</th>\n",
       "      <th>pool1</th>\n",
       "      <th>pool2</th>\n",
       "      <th>all libraries</th>\n",
       "    </tr>\n",
       "    <tr>\n",
       "      <th>target</th>\n",
       "      <th></th>\n",
       "      <th></th>\n",
       "      <th></th>\n",
       "    </tr>\n",
       "  </thead>\n",
       "  <tbody>\n",
       "    <tr>\n",
       "      <th>BQ11</th>\n",
       "      <td>101917</td>\n",
       "      <td>107952</td>\n",
       "      <td>209869</td>\n",
       "    </tr>\n",
       "  </tbody>\n",
       "</table>"
      ],
      "text/plain": [
       "<IPython.core.display.HTML object>"
      ]
     },
     "metadata": {},
     "output_type": "display_data"
    }
   ],
   "source": [
    "display(HTML(\n",
    "    variants\n",
    "    .n_variants_df(samples=None)\n",
    "    .pivot_table(index=['target'],\n",
    "                 columns='library',\n",
    "                 values='count')\n",
    "    .to_html()\n",
    "    ))"
   ]
  },
  {
   "cell_type": "markdown",
   "metadata": {},
   "source": [
    "Plot the number of variants supported by each number of CCSs:"
   ]
  },
  {
   "cell_type": "code",
   "execution_count": 49,
   "metadata": {},
   "outputs": [],
   "source": [
    "max_support = 10  # group variants with >= this much support\n",
    "\n",
    "p = variants.plotVariantSupportHistogram(max_support=max_support,\n",
    "                                         widthscale=1.1,\n",
    "                                         heightscale=0.9)\n",
    "p = p + theme(panel_grid_major_x=element_blank())  # no vertical grid lines\n",
    "_ = p.draw()"
   ]
  },
  {
   "cell_type": "markdown",
   "metadata": {},
   "source": [
    "### Mutations per variant\n",
    "Plot the number of barcoded variants with each number of amino-acid and codon mutations.\n",
    "This is for the primary target only, and doesn't include the spiked-in secondary targets:"
   ]
  },
  {
   "cell_type": "code",
   "execution_count": 50,
   "metadata": {},
   "outputs": [
    {
     "name": "stdout",
     "output_type": "stream",
     "text": [
      "Saving plot to results/figures/n_aa_muts_per_variant_BQ11.pdf\n",
      "Saving plot to results/figures/n_codon_muts_per_variant_BQ11.pdf\n"
     ]
    }
   ],
   "source": [
    "max_muts = 7  # group all variants with >= this many mutations\n",
    "\n",
    "for mut_type in ['aa', 'codon']:\n",
    "    p = variants.plotNumMutsHistogram(mut_type, samples=None, max_muts=max_muts,\n",
    "                                      widthscale=1.1,\n",
    "                                      heightscale=0.9)\n",
    "    p = p + theme(panel_grid_major_x=element_blank())  # no vertical grid lines\n",
    "    _ = p.draw()\n",
    "    plotfile = os.path.join(config['figs_dir'], f\"n_{mut_type}_muts_per_variant_\"+background+\".pdf\")\n",
    "    print(f\"Saving plot to {plotfile}\")\n",
    "    p.save(plotfile)"
   ]
  },
  {
   "cell_type": "markdown",
   "metadata": {},
   "source": [
    "Plot the frequencies of different codon mutation types among **all** variants (any number of mutations), again only for primary target:"
   ]
  },
  {
   "cell_type": "code",
   "execution_count": 51,
   "metadata": {},
   "outputs": [
    {
     "name": "stdout",
     "output_type": "stream",
     "text": [
      "Saving plot to results/figures/avg_muts_per_variant_BQ11.pdf\n"
     ]
    }
   ],
   "source": [
    "p = variants.plotNumCodonMutsByType(variant_type='all', samples=None,\n",
    "                                    ylabel='mutations per variant',\n",
    "                                    heightscale=0.8)\n",
    "p = p + theme(panel_grid_major_x=element_blank())  # no vertical grid lines\n",
    "_ = p.draw()\n",
    "plotfile = os.path.join(config['figs_dir'], f\"avg_muts_per_variant_\"+background+\".pdf\")\n",
    "print(f\"Saving plot to {plotfile}\")\n",
    "p.save(plotfile)"
   ]
  },
  {
   "cell_type": "markdown",
   "metadata": {},
   "source": [
    "Variants supported by multiple PacBio CCSs should have fewer spurious mutations since sequencing errors are very unlikely to occur on two CCSs.\n",
    "Below we plot the number of codon mutations per variant among variants with at least two CCSs supporting their call.\n",
    "The difference in mutation rates here and in the plot above (that does not apply the `min_support=2` filter) gives some estimate of the frequency of mutations in our variants our spurious.\n",
    "In fact, we see the numbers are very similar, indicating that few of the mutations are spurious:"
   ]
  },
  {
   "cell_type": "code",
   "execution_count": 52,
   "metadata": {},
   "outputs": [],
   "source": [
    "p = variants.plotNumCodonMutsByType(variant_type='all', samples=None,\n",
    "                                    ylabel='mutations per variant', \n",
    "                                    min_support=2, heightscale=0.8)\n",
    "p = p + theme(panel_grid_major_x=element_blank())  # no vertical grid lines\n",
    "_ = p.draw()"
   ]
  },
  {
   "cell_type": "markdown",
   "metadata": {},
   "source": [
    "### Completeness of mutation sampling\n",
    "We examine how completely amino-acid mutations are sampled by the variants for the primary target, looking at single-mutant variants only and all variants.\n",
    "The plot below shows that virtually every mutation is found in a variant in each library, even if we just look among the single mutants.\n",
    "Things look especially good if we aggregate across libraries:"
   ]
  },
  {
   "cell_type": "code",
   "execution_count": 53,
   "metadata": {},
   "outputs": [
    {
     "name": "stdout",
     "output_type": "stream",
     "text": [
      "Saving plot to results/figures/variant_cumul_all_mut_coverage_BQ11.pdf\n",
      "Saving plot to results/figures/variant_cumul_single_mut_coverage_BQ11.pdf\n"
     ]
    }
   ],
   "source": [
    "for variant_type in ['all', 'single']:\n",
    "    p = variants.plotCumulMutCoverage(variant_type, mut_type='aa', samples=None)\n",
    "    _ = p.draw()\n",
    "    plotfile = os.path.join(config['figs_dir'],\n",
    "                            f\"variant_cumul_{variant_type}_mut_coverage_\"+background+\".pdf\")\n",
    "    print(f\"Saving plot to {plotfile}\")\n",
    "    p.save(plotfile)"
   ]
  },
  {
   "cell_type": "markdown",
   "metadata": {},
   "source": [
    "To get more quantitative information like that plotted above, we determine how many mutations are found 0, 1, or >1 times both among single and all mutants for the primary target:"
   ]
  },
  {
   "cell_type": "code",
   "execution_count": 54,
   "metadata": {},
   "outputs": [
    {
     "data": {
      "text/html": [
       "<table border=\"1\" class=\"dataframe\">\n",
       "  <thead>\n",
       "    <tr style=\"text-align: right;\">\n",
       "      <th></th>\n",
       "      <th></th>\n",
       "      <th></th>\n",
       "      <th></th>\n",
       "      <th>number_of_mutations</th>\n",
       "    </tr>\n",
       "    <tr>\n",
       "      <th>variant_type</th>\n",
       "      <th>include_stops</th>\n",
       "      <th>library</th>\n",
       "      <th>count</th>\n",
       "      <th></th>\n",
       "    </tr>\n",
       "  </thead>\n",
       "  <tbody>\n",
       "    <tr>\n",
       "      <th rowspan=\"18\" valign=\"top\">all</th>\n",
       "      <th rowspan=\"9\" valign=\"top\">False</th>\n",
       "      <th rowspan=\"3\" valign=\"top\">pool1</th>\n",
       "      <th>0</th>\n",
       "      <td>6</td>\n",
       "    </tr>\n",
       "    <tr>\n",
       "      <th>1</th>\n",
       "      <td>7</td>\n",
       "    </tr>\n",
       "    <tr>\n",
       "      <th>&gt;1</th>\n",
       "      <td>4007</td>\n",
       "    </tr>\n",
       "    <tr>\n",
       "      <th rowspan=\"3\" valign=\"top\">pool2</th>\n",
       "      <th>0</th>\n",
       "      <td>9</td>\n",
       "    </tr>\n",
       "    <tr>\n",
       "      <th>1</th>\n",
       "      <td>5</td>\n",
       "    </tr>\n",
       "    <tr>\n",
       "      <th>&gt;1</th>\n",
       "      <td>4006</td>\n",
       "    </tr>\n",
       "    <tr>\n",
       "      <th rowspan=\"3\" valign=\"top\">all libraries</th>\n",
       "      <th>0</th>\n",
       "      <td>4</td>\n",
       "    </tr>\n",
       "    <tr>\n",
       "      <th>1</th>\n",
       "      <td>4</td>\n",
       "    </tr>\n",
       "    <tr>\n",
       "      <th>&gt;1</th>\n",
       "      <td>4012</td>\n",
       "    </tr>\n",
       "    <tr>\n",
       "      <th rowspan=\"9\" valign=\"top\">True</th>\n",
       "      <th rowspan=\"3\" valign=\"top\">pool1</th>\n",
       "      <th>0</th>\n",
       "      <td>129</td>\n",
       "    </tr>\n",
       "    <tr>\n",
       "      <th>1</th>\n",
       "      <td>12</td>\n",
       "    </tr>\n",
       "    <tr>\n",
       "      <th>&gt;1</th>\n",
       "      <td>4080</td>\n",
       "    </tr>\n",
       "    <tr>\n",
       "      <th rowspan=\"3\" valign=\"top\">pool2</th>\n",
       "      <th>0</th>\n",
       "      <td>127</td>\n",
       "    </tr>\n",
       "    <tr>\n",
       "      <th>1</th>\n",
       "      <td>15</td>\n",
       "    </tr>\n",
       "    <tr>\n",
       "      <th>&gt;1</th>\n",
       "      <td>4079</td>\n",
       "    </tr>\n",
       "    <tr>\n",
       "      <th rowspan=\"3\" valign=\"top\">all libraries</th>\n",
       "      <th>0</th>\n",
       "      <td>117</td>\n",
       "    </tr>\n",
       "    <tr>\n",
       "      <th>1</th>\n",
       "      <td>15</td>\n",
       "    </tr>\n",
       "    <tr>\n",
       "      <th>&gt;1</th>\n",
       "      <td>4089</td>\n",
       "    </tr>\n",
       "    <tr>\n",
       "      <th rowspan=\"18\" valign=\"top\">single</th>\n",
       "      <th rowspan=\"9\" valign=\"top\">False</th>\n",
       "      <th rowspan=\"3\" valign=\"top\">pool1</th>\n",
       "      <th>0</th>\n",
       "      <td>15</td>\n",
       "    </tr>\n",
       "    <tr>\n",
       "      <th>1</th>\n",
       "      <td>2</td>\n",
       "    </tr>\n",
       "    <tr>\n",
       "      <th>&gt;1</th>\n",
       "      <td>4003</td>\n",
       "    </tr>\n",
       "    <tr>\n",
       "      <th rowspan=\"3\" valign=\"top\">pool2</th>\n",
       "      <th>0</th>\n",
       "      <td>14</td>\n",
       "    </tr>\n",
       "    <tr>\n",
       "      <th>1</th>\n",
       "      <td>3</td>\n",
       "    </tr>\n",
       "    <tr>\n",
       "      <th>&gt;1</th>\n",
       "      <td>4003</td>\n",
       "    </tr>\n",
       "    <tr>\n",
       "      <th rowspan=\"3\" valign=\"top\">all libraries</th>\n",
       "      <th>0</th>\n",
       "      <td>14</td>\n",
       "    </tr>\n",
       "    <tr>\n",
       "      <th>1</th>\n",
       "      <td>1</td>\n",
       "    </tr>\n",
       "    <tr>\n",
       "      <th>&gt;1</th>\n",
       "      <td>4005</td>\n",
       "    </tr>\n",
       "    <tr>\n",
       "      <th rowspan=\"9\" valign=\"top\">True</th>\n",
       "      <th rowspan=\"3\" valign=\"top\">pool1</th>\n",
       "      <th>0</th>\n",
       "      <td>159</td>\n",
       "    </tr>\n",
       "    <tr>\n",
       "      <th>1</th>\n",
       "      <td>6</td>\n",
       "    </tr>\n",
       "    <tr>\n",
       "      <th>&gt;1</th>\n",
       "      <td>4056</td>\n",
       "    </tr>\n",
       "    <tr>\n",
       "      <th rowspan=\"3\" valign=\"top\">pool2</th>\n",
       "      <th>0</th>\n",
       "      <td>153</td>\n",
       "    </tr>\n",
       "    <tr>\n",
       "      <th>1</th>\n",
       "      <td>12</td>\n",
       "    </tr>\n",
       "    <tr>\n",
       "      <th>&gt;1</th>\n",
       "      <td>4056</td>\n",
       "    </tr>\n",
       "    <tr>\n",
       "      <th rowspan=\"3\" valign=\"top\">all libraries</th>\n",
       "      <th>0</th>\n",
       "      <td>146</td>\n",
       "    </tr>\n",
       "    <tr>\n",
       "      <th>1</th>\n",
       "      <td>14</td>\n",
       "    </tr>\n",
       "    <tr>\n",
       "      <th>&gt;1</th>\n",
       "      <td>4061</td>\n",
       "    </tr>\n",
       "  </tbody>\n",
       "</table>"
      ],
      "text/plain": [
       "<IPython.core.display.HTML object>"
      ]
     },
     "metadata": {},
     "output_type": "display_data"
    }
   ],
   "source": [
    "count_dfs = []\n",
    "for variant_type in ['all', 'single']:\n",
    "    i_counts = (variants.mutCounts(variant_type, mut_type='aa', samples=None)\n",
    "                .assign(variant_type=variant_type)\n",
    "                )\n",
    "    count_dfs += [i_counts.assign(include_stops=True),\n",
    "                  i_counts\n",
    "                  .query('not mutation.str.contains(\"\\*\")', engine='python')\n",
    "                  .assign(include_stops=False)\n",
    "                  ]\n",
    "    \n",
    "display(HTML(\n",
    "    pd.concat(count_dfs)\n",
    "    .assign(count=lambda x: (numpy.clip(x['count'], None, 2)\n",
    "                             .map({0: '0', 1: '1', 2:'>1'}))\n",
    "            )\n",
    "    .groupby(['variant_type', 'include_stops', 'library', 'count'])\n",
    "    .aggregate(number_of_mutations=pd.NamedAgg(column='mutation', aggfunc='count'))\n",
    "    .to_html()\n",
    "    ))"
   ]
  },
  {
   "cell_type": "markdown",
   "metadata": {},
   "source": [
    "### Mutation frequencies along gene\n",
    "We plot the frequencies of mutations along the gene among the variants for the primary target.\n",
    "Ideally, this would be uniform.\n",
    "We make the plot for both all variants and single-mutant / wildtype variants:"
   ]
  },
  {
   "cell_type": "code",
   "execution_count": 55,
   "metadata": {},
   "outputs": [],
   "source": [
    "for variant_type in ['all', 'single']:\n",
    "    p = variants.plotMutFreqs(variant_type, mut_type='codon', samples=None)\n",
    "    p.draw()"
   ]
  },
  {
   "cell_type": "markdown",
   "metadata": {},
   "source": [
    "We can also use heat maps to examine the extent to which specific amino-acid or codon mutations are over-represented.\n",
    "These heat maps are large, so we make them just for all variants and the merge of all libraries:"
   ]
  },
  {
   "cell_type": "code",
   "execution_count": 56,
   "metadata": {},
   "outputs": [],
   "source": [
    "for mut_type in ['aa', 'codon']:\n",
    "    p = variants.plotMutHeatmap('all', mut_type, samples=None, #libraries='all_only',\n",
    "                                widthscale=2)\n",
    "    p.draw()"
   ]
  },
  {
   "cell_type": "markdown",
   "metadata": {},
   "source": [
    "### Write codon-variant table\n",
    "We write the codon variant table to a CSV file.\n",
    "This table looks like this:"
   ]
  },
  {
   "cell_type": "code",
   "execution_count": 57,
   "metadata": {},
   "outputs": [
    {
     "data": {
      "text/html": [
       "<table border=\"1\" class=\"dataframe\">\n",
       "  <thead>\n",
       "    <tr style=\"text-align: right;\">\n",
       "      <th>target</th>\n",
       "      <th>library</th>\n",
       "      <th>barcode</th>\n",
       "      <th>variant_call_support</th>\n",
       "      <th>codon_substitutions</th>\n",
       "      <th>aa_substitutions</th>\n",
       "      <th>n_codon_substitutions</th>\n",
       "      <th>n_aa_substitutions</th>\n",
       "    </tr>\n",
       "  </thead>\n",
       "  <tbody>\n",
       "    <tr>\n",
       "      <td>BQ11</td>\n",
       "      <td>pool1</td>\n",
       "      <td>AAAAAAAAAAGAGTCA</td>\n",
       "      <td>2</td>\n",
       "      <td>GGG86AAA</td>\n",
       "      <td>G86K</td>\n",
       "      <td>1</td>\n",
       "      <td>1</td>\n",
       "    </tr>\n",
       "    <tr>\n",
       "      <td>BQ11</td>\n",
       "      <td>pool1</td>\n",
       "      <td>AAAAAAAAAATGTACA</td>\n",
       "      <td>4</td>\n",
       "      <td>CTA5CCA</td>\n",
       "      <td>L5P</td>\n",
       "      <td>1</td>\n",
       "      <td>1</td>\n",
       "    </tr>\n",
       "    <tr>\n",
       "      <td>BQ11</td>\n",
       "      <td>pool1</td>\n",
       "      <td>AAAAAAAAACAACTCT</td>\n",
       "      <td>1</td>\n",
       "      <td>GAT112GTT</td>\n",
       "      <td>D112V</td>\n",
       "      <td>1</td>\n",
       "      <td>1</td>\n",
       "    </tr>\n",
       "    <tr>\n",
       "      <td>BQ11</td>\n",
       "      <td>pool1</td>\n",
       "      <td>AAAAAAAAACAGTAGT</td>\n",
       "      <td>2</td>\n",
       "      <td>CCT133GCT</td>\n",
       "      <td>P133A</td>\n",
       "      <td>1</td>\n",
       "      <td>1</td>\n",
       "    </tr>\n",
       "    <tr>\n",
       "      <td>BQ11</td>\n",
       "      <td>pool1</td>\n",
       "      <td>AAAAAAAAACTCCGTG</td>\n",
       "      <td>4</td>\n",
       "      <td>AAC107GAT</td>\n",
       "      <td>N107D</td>\n",
       "      <td>1</td>\n",
       "      <td>1</td>\n",
       "    </tr>\n",
       "  </tbody>\n",
       "</table>"
      ],
      "text/plain": [
       "<IPython.core.display.HTML object>"
      ]
     },
     "metadata": {},
     "output_type": "display_data"
    }
   ],
   "source": [
    "display(HTML(\n",
    "    variants.barcode_variant_df\n",
    "    .head()\n",
    "    .to_html(index=False)\n",
    "    ))"
   ]
  },
  {
   "cell_type": "markdown",
   "metadata": {},
   "source": [
    "Note how this table differs from the nucleotide variant table we generated above and used to initialize the [CodonVariantTable](https://jbloomlab.github.io/dms_variants/dms_variants.codonvarianttable.html#dms_variants.codonvarianttable.CodonVariantTable) in that it gives **codon** substitutions and associated amino-acid substitutions.\n",
    "\n",
    "Write it to CSV file:"
   ]
  },
  {
   "cell_type": "code",
   "execution_count": 58,
   "metadata": {},
   "outputs": [
    {
     "name": "stdout",
     "output_type": "stream",
     "text": [
      "Writing codon-variant table to results/variants/codon_variant_table_BQ11.csv\n"
     ]
    }
   ],
   "source": [
    "print(f\"Writing codon-variant table to {config['codon_variant_table_file_'+background]}\")\n",
    "\n",
    "variants.barcode_variant_df.to_csv(config['codon_variant_table_file_'+background], index=False)"
   ]
  },
  {
   "cell_type": "code",
   "execution_count": null,
   "metadata": {},
   "outputs": [],
   "source": []
  }
 ],
 "metadata": {
  "language_info": {
   "name": "python"
  }
 },
 "nbformat": 4,
 "nbformat_minor": 4
}
